{
 "cells": [
  {
   "cell_type": "code",
   "execution_count": 1,
   "metadata": {},
   "outputs": [
    {
     "data": {
      "text/plain": [
       "(200, 11)"
      ]
     },
     "execution_count": 1,
     "metadata": {},
     "output_type": "execute_result"
    }
   ],
   "source": [
    "include(\"functions.jl\")\n",
    "\n",
    "magic = readdlm(\"magic04.data\", ',', Any, '\\n')\n",
    "magic = magic[sample(1:19020, 200, replace = false),:]\n",
    "loc = findall(x->x==\"g\",magic[:,11])\n",
    "magic[loc,11] .= 1\n",
    "loc = findall(x->x==\"h\",magic[:,11])\n",
    "magic[loc,11] .= 0\n",
    "magic = convert(Array{Float64}, magic)\n",
    "\n",
    "class = magic[:,11]\n",
    "magic[:,11] .= 1\n",
    "n, p = size(magic)"
   ]
  },
  {
   "cell_type": "markdown",
   "metadata": {},
   "source": [
    "Magic gamma telescope dataset\n",
    "- \\# of sample: 19,020\n",
    "- \\# of covariate: 11 (including intercept)\n",
    "- response: binary\n",
    "\n",
    "Choose $N_1$ random samples, and obtain $\\hat\\beta$ for the logistic regression model. Then, find a locally {$A_K$, $D$}-optimal design of sample size $N_2$ with $\\hat\\beta$.\n",
    "\n",
    "Since the whole dataset is too large, we shall conduct our experiment on subset of 1,000 samples."
   ]
  },
  {
   "cell_type": "markdown",
   "metadata": {},
   "source": [
    "#### Case 1, OED\n",
    "- $A$-optimality\n",
    "- $N_1$: 30\n",
    "- $N_2$: 100"
   ]
  },
  {
   "cell_type": "code",
   "execution_count": 12,
   "metadata": {},
   "outputs": [
    {
     "name": "stdout",
     "output_type": "stream",
     "text": [
      "Problem\n",
      "  Name                   :                 \n",
      "  Objective sense        : min             \n",
      "  Type                   : CONIC (conic optimization problem)\n",
      "  Constraints            : 3008            \n",
      "  Cones                  : 171             \n",
      "  Scalar variables       : 5256            \n",
      "  Matrix variables       : 0               \n",
      "  Integer variables      : 171             \n",
      "\n",
      "Optimizer started.\n",
      "Mixed integer optimizer started.\n",
      "Threads used: 24\n",
      "Presolve started.\n",
      "Presolve terminated. Time = 0.05\n",
      "Presolved problem: 2882 variables, 463 constraints, 27240 non-zeros\n",
      "Presolved problem: 0 general integer, 170 binary, 2712 continuous\n",
      "Clique table size: 0\n",
      "BRANCHES RELAXS   ACT_NDS  DEPTH    BEST_INT_OBJ         BEST_RELAX_OBJ       REL_GAP(%)  TIME  \n",
      "0        1        0        0        NA                   -2.9961939855e-01    NA          0.1   \n",
      "0        1        0        0        -2.9943662035e-01    -2.9961939855e-01    0.06        0.4   \n",
      "Cut generation started.\n",
      "0        2        0        0        -2.9943662035e-01    -2.9961939855e-01    0.06        0.9   \n",
      "Cut generation terminated. Time = 0.12\n",
      "Presolve started.\n",
      "Presolve terminated. Time = 0.01\n",
      "Presolved problem: 2702 variables, 373 constraints, 26790 non-zeros\n",
      "Presolved problem: 0 general integer, 80 binary, 2622 continuous\n",
      "Clique table size: 0\n",
      "BRANCHES RELAXS   ACT_NDS  DEPTH    BEST_INT_OBJ         BEST_RELAX_OBJ       REL_GAP(%)  TIME  \n",
      "15       19       16       3        -2.9943662035e-01    -2.9959081898e-01    0.05        1.5   \n",
      "31       35       32       4        -2.9943662035e-01    -2.9958941511e-01    0.05        1.7   \n",
      "55       59       48       5        -2.9943662035e-01    -2.9956511326e-01    0.04        1.9   \n",
      "95       99       80       7        -2.9943662035e-01    -2.9956511326e-01    0.04        2.2   \n",
      "164      168      119      7        -2.9943662035e-01    -2.9955664005e-01    0.04        2.6   \n",
      "260      264      159      10       -2.9943662035e-01    -2.9955664005e-01    0.04        3.2   \n",
      "404      408      185      14       -2.9943696671e-01    -2.9955664005e-01    0.04        3.9   \n",
      "572      576      231      18       -2.9944910565e-01    -2.9955664005e-01    0.04        4.6   \n",
      "788      785      261      14       -2.9946420804e-01    -2.9955664005e-01    0.03        5.6   \n",
      "1028     991      267      8        -2.9955883790e-01    -2.9955883790e-01    0.00e+00    6.6   \n",
      "An optimal solution satisfying the relative gap tolerance of 1.00e-02(%) has been located.\n",
      "The relative gap is 0.00e+00(%).\n",
      "An optimal solution satisfying the absolute gap tolerance of 0.00e+00 has been located.\n",
      "The absolute gap is 0.00e+00.\n",
      "\n",
      "Objective of best integer solution : -2.995588378974e-01     \n",
      "Best objective bound               : -2.995566400499e-01     \n",
      "Construct solution objective       : Not employed\n",
      "Construct solution # roundings     : 0\n",
      "User objective cut value           : 0\n",
      "Number of cuts generated           : 0\n",
      "Number of branches                 : 1028\n",
      "Number of relaxations solved       : 991\n",
      "Number of interior point iterations: 11275\n",
      "Number of simplex iterations       : 0\n",
      "Time spend presolving the root     : 0.01\n",
      "Time spend in the heuristic        : 0.00\n",
      "Time spend in the sub optimizers   : 0.00\n",
      "  Time spend optimizing the root   : 0.06\n",
      "Mixed integer optimizer terminated. Time: 6.61\n",
      "\n",
      "Optimizer terminated. Time: 6.64    \n",
      "\n",
      "\n",
      "Integer solution solution summary\n",
      "  Problem status  : PRIMAL_FEASIBLE\n",
      "  Solution status : INTEGER_OPTIMAL\n",
      "  Primal.  obj: -2.9955883790e-01   nrm: 1e+02    Viol.  con: 1e-07    var: 0e+00    cones: 0e+00    itg: 0e+00  \n",
      "Optimal\n",
      "  7.051431 seconds (320.69 k allocations: 600.552 MiB, 1.56% gc time)\n"
     ]
    },
    {
     "data": {
      "text/plain": [
       "170-element Array{Float64,1}:\n",
       " 1.0\n",
       " 0.0\n",
       " 1.0\n",
       " 1.0\n",
       " 1.0\n",
       " 1.0\n",
       " 1.0\n",
       " 1.0\n",
       " 1.0\n",
       " 1.0\n",
       " 1.0\n",
       " 1.0\n",
       " 1.0\n",
       " ⋮  \n",
       " 0.0\n",
       " 0.0\n",
       " 0.0\n",
       " 1.0\n",
       " 0.0\n",
       " 1.0\n",
       " 0.0\n",
       " 1.0\n",
       " 0.0\n",
       " 1.0\n",
       " 1.0\n",
       " 0.0"
      ]
     },
     "execution_count": 12,
     "metadata": {},
     "output_type": "execute_result"
    }
   ],
   "source": [
    "using BenchmarkTools, StatsBase\n",
    "\n",
    "Random.seed!(1)\n",
    "N1 = 30\n",
    "N2 = 100\n",
    "samp1 = sample(1:n, N1, replace = false)\n",
    "cand = setdiff(1:n, samp1)\n",
    "\n",
    "@time aopt = sagnol_A(magic[cand,:], magic[samp1,:], N2; verbose=1, IC=1)"
   ]
  },
  {
   "cell_type": "code",
   "execution_count": 13,
   "metadata": {},
   "outputs": [
    {
     "name": "stdout",
     "output_type": "stream",
     "text": [
      "Problem\n",
      "  Name                   :                 \n",
      "  Objective sense        : min             \n",
      "  Type                   : CONIC (conic optimization problem)\n",
      "  Constraints            : 3179            \n",
      "  Cones                  : 171             \n",
      "  Scalar variables       : 5256            \n",
      "  Matrix variables       : 0               \n",
      "  Integer variables      : 0               \n",
      "\n",
      "Optimizer started.\n",
      "Presolve started.\n",
      "Linear dependency checker started.\n",
      "Linear dependency checker terminated.\n",
      "Eliminator - tries                  : 0                 time                   : 0.00            \n",
      "Lin. dep.  - tries                  : 1                 time                   : 0.00            \n",
      "Lin. dep.  - number                 : 0               \n",
      "Presolve terminated. Time: 0.01    \n",
      "Problem\n",
      "  Name                   :                 \n",
      "  Objective sense        : min             \n",
      "  Type                   : CONIC (conic optimization problem)\n",
      "  Constraints            : 3179            \n",
      "  Cones                  : 171             \n",
      "  Scalar variables       : 5256            \n",
      "  Matrix variables       : 0               \n",
      "  Integer variables      : 0               \n",
      "\n",
      "Optimizer  - threads                : 24              \n",
      "Optimizer  - solved problem         : the primal      \n",
      "Optimizer  - Constraints            : 463\n",
      "Optimizer  - Cones                  : 171\n",
      "Optimizer  - Scalar variables       : 3053              conic                  : 2542            \n",
      "Optimizer  - Semi-definite variables: 0                 scalarized             : 0               \n",
      "Factor     - setup time             : 0.01              dense det. time        : 0.00            \n",
      "Factor     - ML order time          : 0.00              GP order time          : 0.00            \n",
      "Factor     - nonzeros before factor : 4.95e+04          after factor           : 5.01e+04        \n",
      "Factor     - dense dim.             : 0                 flops                  : 8.90e+06        \n",
      "ITE PFEAS    DFEAS    GFEAS    PRSTATUS   POBJ              DOBJ              MU       TIME  \n",
      "0   2.5e+01  1.0e+00  1.0e+00  0.00e+00   -1.000000000e+00  -1.000000000e+00  1.0e+00  0.02  \n",
      "1   1.2e+01  4.8e-01  3.0e-01  9.39e+00   -2.570532668e-01  4.005479042e+01   4.8e-01  0.03  \n",
      "2   4.1e-01  1.6e-02  1.6e-01  1.49e+00   -2.777706536e-01  -1.504025621e-01  1.6e-02  0.03  \n",
      "3   5.3e-02  2.1e-03  1.7e-01  1.13e+00   -2.514659795e-01  -2.541547375e-01  2.1e-03  0.03  \n",
      "4   1.1e-02  4.6e-04  1.2e-01  1.27e+00   -2.926556881e-01  -2.933758151e-01  4.6e-04  0.04  \n",
      "5   1.5e-03  6.0e-05  5.9e-02  1.06e+00   -2.981612292e-01  -2.982674581e-01  6.0e-05  0.04  \n",
      "6   2.4e-04  9.7e-06  2.4e-02  1.01e+00   -2.993442136e-01  -2.993613759e-01  9.7e-06  0.05  \n",
      "7   3.7e-05  1.5e-06  9.6e-03  1.00e+00   -2.995788771e-01  -2.995814825e-01  1.5e-06  0.05  \n",
      "8   3.9e-06  1.6e-07  3.1e-03  1.00e+00   -2.996150720e-01  -2.996153497e-01  1.6e-07  0.06  \n",
      "9   9.2e-08  3.7e-09  3.7e-09  1.00e+00   -2.996195719e-01  -2.996195784e-01  3.7e-09  0.06  \n",
      "Optimizer terminated. Time: 0.07    \n",
      "\n",
      "\n",
      "Interior-point solution summary\n",
      "  Problem status  : PRIMAL_AND_DUAL_FEASIBLE\n",
      "  Solution status : OPTIMAL\n",
      "  Primal.  obj: -2.9961957194e-01   nrm: 1e+02    Viol.  con: 5e-08    var: 0e+00    cones: 0e+00  \n",
      "  Dual.    obj: -2.9961957845e-01   nrm: 1e+00    Viol.  con: 9e-10    var: 2e-09    cones: 0e+00  \n",
      "Optimal\n",
      "  0.676146 seconds (320.21 k allocations: 600.699 MiB, 45.92% gc time)\n"
     ]
    },
    {
     "data": {
      "text/plain": [
       "170-element Array{Float64,1}:\n",
       " 0.9999637050811876   \n",
       " 1.5723347073907028e-6\n",
       " 0.9999992469131076   \n",
       " 0.9984728906815348   \n",
       " 0.9999993713492352   \n",
       " 0.9999192659569099   \n",
       " 0.9999998533940073   \n",
       " 0.9999986315986255   \n",
       " 0.9999892575658899   \n",
       " 0.999999515256423    \n",
       " 0.9999988243112853   \n",
       " 0.99999789086498     \n",
       " 0.9999957319600167   \n",
       " ⋮                    \n",
       " 7.830113670134259e-6 \n",
       " 1.421254845588156e-6 \n",
       " 9.106789426881728e-6 \n",
       " 0.999998043582222    \n",
       " 1.3669476183583764e-6\n",
       " 0.9999845389028844   \n",
       " 3.46937016511816e-6  \n",
       " 0.9999983996649368   \n",
       " 1.979452192440497e-6 \n",
       " 0.9999856743068779   \n",
       " 0.9999999602352794   \n",
       " 1.563541605161239e-6 "
      ]
     },
     "execution_count": 13,
     "metadata": {},
     "output_type": "execute_result"
    }
   ],
   "source": [
    "@time aopt = sagnol_A(magic[cand,:], magic[samp1,:], N2; verbose=1, IC=0)"
   ]
  },
  {
   "cell_type": "code",
   "execution_count": 14,
   "metadata": {},
   "outputs": [
    {
     "name": "stdout",
     "output_type": "stream",
     "text": [
      "Optimal\n",
      "100\n"
     ]
    },
    {
     "data": {
      "text/plain": [
       "14.7893563822838"
      ]
     },
     "execution_count": 14,
     "metadata": {},
     "output_type": "execute_result"
    }
   ],
   "source": [
    "#N1 = 30\n",
    "#N2 = 100\n",
    "#samp1 = sample(1:n, N1, replace = false)\n",
    "\n",
    "aopt = sagnol_A(magic[cand,:], magic[samp1,:], N2; K = magic', verbose=0, IC=1)\n",
    "aopt = BitArray(round.(aopt))\n",
    "println(sum(aopt))\n",
    "samp2 = [samp1; cand[aopt]]\n",
    "exact = tr(inv(magic[samp2,:]'magic[samp2,:]))"
   ]
  },
  {
   "cell_type": "code",
   "execution_count": 15,
   "metadata": {},
   "outputs": [
    {
     "name": "stdout",
     "output_type": "stream",
     "text": [
      "Stall\n"
     ]
    },
    {
     "name": "stderr",
     "output_type": "stream",
     "text": [
      "┌ Warning: Problem status Stall; solution may be inaccurate.\n",
      "└ @ Convex /DATA/home/ppinsm/.julia/packages/Convex/6NNC8/src/solution.jl:51\n"
     ]
    },
    {
     "data": {
      "text/plain": [
       "Dict{Int64,Int64} with 5 entries:\n",
       "  100 => 11\n",
       "  102 => 1\n",
       "  98  => 2\n",
       "  101 => 9\n",
       "  99  => 7"
      ]
     },
     "execution_count": 15,
     "metadata": {},
     "output_type": "execute_result"
    }
   ],
   "source": [
    "aopt = sagnol_A(magic[cand,:], magic[samp1,:], N2; K = magic', verbose=0, IC=0)\n",
    "\n",
    "n_try = 30\n",
    "\n",
    "apprx = zeros(Float64, n_try)\n",
    "apprx_size = zeros(Int64, n_try)\n",
    "for i = 1:n_try\n",
    "    bool_opt = rand(n-N1) .< aopt\n",
    "    apprx_size[i] = sum(bool_opt)\n",
    "    samp2 = [samp1; cand[bool_opt]]\n",
    "    apprx[i] = tr(inv(magic[samp2,:]'magic[samp2,:]))\n",
    "end\n",
    "\n",
    "countmap(apprx_size)"
   ]
  },
  {
   "cell_type": "code",
   "execution_count": 16,
   "metadata": {},
   "outputs": [
    {
     "name": "stdout",
     "output_type": "stream",
     "text": [
      "Summary Stats:\n",
      "Length:         30\n",
      "Missing Count:  0\n",
      "Mean:           0.999673\n",
      "Minimum:        0.988966\n",
      "1st Quartile:   0.998954\n",
      "Median:         1.000270\n",
      "3rd Quartile:   1.002729\n",
      "Maximum:        1.005671\n",
      "Type:           Float64\n"
     ]
    }
   ],
   "source": [
    "describe(exact ./ apprx)"
   ]
  },
  {
   "cell_type": "code",
   "execution_count": null,
   "metadata": {
    "collapsed": true
   },
   "outputs": [],
   "source": []
  }
 ],
 "metadata": {
  "kernelspec": {
   "display_name": "Julia 1.2.0",
   "language": "julia",
   "name": "julia-1.2"
  },
  "language_info": {
   "file_extension": ".jl",
   "mimetype": "application/julia",
   "name": "julia",
   "version": "1.2.0"
  }
 },
 "nbformat": 4,
 "nbformat_minor": 2
}
