{
 "cells": [
  {
   "cell_type": "code",
   "execution_count": 1,
   "metadata": {},
   "outputs": [
    {
     "data": {
      "text/plain": [
       "(200, 11)"
      ]
     },
     "execution_count": 1,
     "metadata": {},
     "output_type": "execute_result"
    }
   ],
   "source": [
    "include(\"functions.jl\")\n",
    "\n",
    "magic = readdlm(\"magic04.data\", ',', Any, '\\n')\n",
    "magic = magic[sample(1:19020, 200, replace = false),:]\n",
    "loc = findall(x->x==\"g\",magic[:,11])\n",
    "magic[loc,11] .= 1\n",
    "loc = findall(x->x==\"h\",magic[:,11])\n",
    "magic[loc,11] .= 0\n",
    "magic = convert(Array{Float64}, magic)\n",
    "\n",
    "class = magic[:,11]\n",
    "magic[:,11] .= 1\n",
    "n, p = size(magic)"
   ]
  },
  {
   "cell_type": "markdown",
   "metadata": {},
   "source": [
    "Magic gamma telescope dataset\n",
    "- \\# of sample: 19,020\n",
    "- \\# of covariate: 11 (including intercept)\n",
    "- response: binary\n",
    "\n",
    "Choose $N_1$ random samples, and obtain $\\hat\\beta$ for the logistic regression model. Then, find a locally {$A_K$, $D$}-optimal design of sample size $N_2$ with $\\hat\\beta$.\n",
    "\n",
    "Since the whole dataset is too large, we shall conduct our experiment on subset of 1,000 samples."
   ]
  },
  {
   "cell_type": "markdown",
   "metadata": {},
   "source": [
    "#### Case 2, OED\n",
    "- $D$-optimality\n",
    "- $N_1$: 30\n",
    "- $N_2$: 100"
   ]
  },
  {
   "cell_type": "code",
   "execution_count": 14,
   "metadata": {},
   "outputs": [
    {
     "name": "stdout",
     "output_type": "stream",
     "text": [
      "Problem\n",
      "  Name                   :                 \n",
      "  Objective sense        : min             \n",
      "  Type                   : CONIC (conic optimization problem)\n",
      "  Constraints            : 9962            \n",
      "  Cones                  : 1893            \n",
      "  Scalar variables       : 12277           \n",
      "  Matrix variables       : 0               \n",
      "  Integer variables      : 171             \n",
      "\n",
      "Optimizer started.\n",
      "Mixed integer optimizer started.\n",
      "Threads used: 24\n",
      "Presolve started.\n",
      "Presolve terminated. Time = 0.14\n",
      "Presolved problem: 8048 variables, 3852 constraints, 26581 non-zeros\n",
      "Presolved problem: 0 general integer, 170 binary, 7878 continuous\n",
      "Clique table size: 0\n",
      "BRANCHES RELAXS   ACT_NDS  DEPTH    BEST_INT_OBJ         BEST_RELAX_OBJ       REL_GAP(%)  TIME  \n",
      "0        1        0        0        NA                   -7.7828933196e+03    NA          0.6   \n",
      "0        1        0        0        -9.1611658192e+03    -9.1611658192e+03    0.00e+00    1.9   \n",
      "An optimal solution satisfying the relative gap tolerance of 1.00e-02(%) has been located.\n",
      "The relative gap is 0.00e+00(%).\n",
      "An optimal solution satisfying the absolute gap tolerance of 0.00e+00 has been located.\n",
      "The absolute gap is 0.00e+00.\n",
      "\n",
      "Objective of best integer solution : -9.161165819218e+03     \n",
      "Best objective bound               : -7.782893319567e+03     \n",
      "Construct solution objective       : Not employed\n",
      "Construct solution # roundings     : 0\n",
      "User objective cut value           : 0\n",
      "Number of cuts generated           : 0\n",
      "Number of branches                 : 0\n",
      "Number of relaxations solved       : 1\n",
      "Number of interior point iterations: 41\n",
      "Number of simplex iterations       : 0\n",
      "Time spend presolving the root     : 0.14\n",
      "Time spend in the heuristic        : 0.00\n",
      "Time spend in the sub optimizers   : 0.00\n",
      "  Time spend optimizing the root   : 0.47\n",
      "Mixed integer optimizer terminated. Time: 1.94\n",
      "\n",
      "Optimizer terminated. Time: 1.96    \n",
      "\n",
      "\n",
      "Integer solution solution summary\n",
      "  Problem status  : PRIMAL_FEASIBLE\n",
      "  Solution status : INTEGER_OPTIMAL\n",
      "  Primal.  obj: -9.1611658192e+03   nrm: 8e+06    Viol.  con: 2e-05    var: 0e+00    cones: 0e+00    itg: 0e+00  \n",
      "Optimal\n",
      "  7.620397 seconds (2.36 M allocations: 7.655 GiB, 21.04% gc time)\n",
      "100\n"
     ]
    },
    {
     "data": {
      "text/plain": [
       "8.164016818453245e39"
      ]
     },
     "execution_count": 14,
     "metadata": {},
     "output_type": "execute_result"
    }
   ],
   "source": [
    "using BenchmarkTools, StatsBase\n",
    "\n",
    "Random.seed!(1)\n",
    "N1 = 30\n",
    "N2 = 100\n",
    "samp1 = sample(1:n, N1, replace = false)\n",
    "cand = setdiff(1:n, samp1)\n",
    "\n",
    "@time aopt = sagnol_D(magic[cand,:], magic[samp1,:], N2; verbose=1, IC=1)\n",
    "aopt = BitArray(round.(aopt))\n",
    "println(sum(aopt))\n",
    "samp2 = [samp1; cand[aopt]]\n",
    "exact = det(magic[samp2,:]'magic[samp2,:])"
   ]
  },
  {
   "cell_type": "code",
   "execution_count": 15,
   "metadata": {
    "scrolled": false
   },
   "outputs": [
    {
     "name": "stdout",
     "output_type": "stream",
     "text": [
      "Problem\n",
      "  Name                   :                 \n",
      "  Objective sense        : min             \n",
      "  Type                   : CONIC (conic optimization problem)\n",
      "  Constraints            : 10133           \n",
      "  Cones                  : 1893            \n",
      "  Scalar variables       : 12277           \n",
      "  Matrix variables       : 0               \n",
      "  Integer variables      : 0               \n",
      "\n",
      "Optimizer started.\n",
      "Presolve started.\n",
      "Linear dependency checker started.\n",
      "Linear dependency checker terminated.\n",
      "Eliminator started.\n",
      "Freed constraints in eliminator : 1894\n",
      "Eliminator terminated.\n",
      "Eliminator started.\n",
      "Freed constraints in eliminator : 0\n",
      "Eliminator terminated.\n",
      "Eliminator - tries                  : 2                 time                   : 0.00            \n",
      "Lin. dep.  - tries                  : 1                 time                   : 0.00            \n",
      "Lin. dep.  - number                 : 0               \n",
      "Presolve terminated. Time: 0.02    \n",
      "Problem\n",
      "  Name                   :                 \n",
      "  Objective sense        : min             \n",
      "  Type                   : CONIC (conic optimization problem)\n",
      "  Constraints            : 10133           \n",
      "  Cones                  : 1893            \n",
      "  Scalar variables       : 12277           \n",
      "  Matrix variables       : 0               \n",
      "  Integer variables      : 0               \n",
      "\n",
      "Optimizer  - threads                : 24              \n",
      "Optimizer  - solved problem         : the dual        \n",
      "Optimizer  - Constraints            : 4272\n",
      "Optimizer  - Cones                  : 1894\n",
      "Optimizer  - Scalar variables       : 8127              conic                  : 6065            \n",
      "Optimizer  - Semi-definite variables: 0                 scalarized             : 0               \n",
      "Factor     - setup time             : 0.13              dense det. time        : 0.03            \n",
      "Factor     - ML order time          : 0.05              GP order time          : 0.00            \n",
      "Factor     - nonzeros before factor : 2.99e+04          after factor           : 5.46e+04        \n",
      "Factor     - dense dim.             : 82                flops                  : 1.86e+06        \n",
      "ITE PFEAS    DFEAS    GFEAS    PRSTATUS   POBJ              DOBJ              MU       TIME  \n",
      "0   2.5e+01  1.1e+01  4.2e+00  0.00e+00   0.000000000e+00   -5.200000000e+01  1.0e+00  0.16  \n",
      "1   1.9e+01  8.3e+00  2.5e+00  6.02e+00   -7.494036805e-01  -5.817619649e+00  7.6e-01  0.16  \n",
      "2   1.5e+01  6.4e+00  2.0e+00  3.29e+00   -1.502091943e+00  3.351048365e+00   5.8e-01  0.17  \n",
      "3   7.8e+00  3.4e+00  1.5e+00  2.41e+00   -3.162727908e+00  2.457184623e+00   3.1e-01  0.17  \n",
      "4   5.2e+00  2.3e+00  1.3e+00  1.61e+00   -9.006043479e+00  -5.711775685e+00  2.1e-01  0.18  \n",
      "5   4.6e+00  2.0e+00  1.2e+00  1.33e+00   -1.613262458e+01  -1.326490808e+01  1.8e-01  0.18  \n",
      "6   3.5e+00  1.5e+00  1.1e+00  1.28e+00   -2.139173275e+01  -1.952706593e+01  1.4e-01  0.19  \n",
      "7   3.0e+00  1.3e+00  9.9e-01  1.02e+00   -3.269731803e+01  -3.097612258e+01  1.2e-01  0.19  \n",
      "8   2.0e+00  8.9e-01  8.0e-01  9.33e-01   -4.996658400e+01  -4.885179163e+01  8.1e-02  0.20  \n",
      "9   1.3e+00  5.6e-01  5.8e-01  7.45e-01   -7.443320935e+01  -7.359099864e+01  5.1e-02  0.20  \n",
      "10  7.2e-01  3.2e-01  3.7e-01  4.83e-01   -1.072722478e+02  -1.065612016e+02  2.9e-02  0.20  \n",
      "11  3.3e-01  1.5e-01  1.9e-01  2.62e-01   -1.651104044e+02  -1.644534158e+02  1.3e-02  0.21  \n",
      "12  1.7e-01  7.5e-02  1.1e-01  1.21e-01   -2.117589127e+02  -2.111376134e+02  6.9e-03  0.21  \n",
      "13  8.6e-02  3.8e-02  5.6e-02  -3.35e-03  -2.927354891e+02  -2.920616300e+02  3.4e-03  0.22  \n",
      "14  3.3e-02  1.5e-02  2.3e-02  -3.63e-02  -4.006559415e+02  -3.999625113e+02  1.3e-03  0.22  \n",
      "15  1.6e-02  6.9e-03  1.2e-02  -3.94e-02  -5.157365020e+02  -5.150641575e+02  6.3e-04  0.23  \n",
      "16  6.8e-03  3.0e-03  4.9e-03  -1.12e-01  -6.902748749e+02  -6.895367914e+02  2.7e-04  0.23  \n",
      "17  4.6e-03  2.0e-03  3.5e-03  -3.08e-02  -7.664385576e+02  -7.657509528e+02  1.9e-04  0.23  \n",
      "18  2.2e-03  9.7e-04  1.7e-03  -9.57e-02  -9.565896023e+02  -9.559242666e+02  8.8e-05  0.24  \n",
      "19  7.3e-04  3.2e-04  5.7e-04  -1.12e-01  -1.296448027e+03  -1.295766135e+03  2.9e-05  0.24  \n",
      "20  3.4e-04  1.5e-04  2.6e-04  -1.52e-01  -1.619884825e+03  -1.619127431e+03  1.3e-05  0.25  \n",
      "21  1.6e-04  6.9e-05  1.2e-04  -1.37e-01  -2.004781556e+03  -2.004016107e+03  6.3e-06  0.25  \n",
      "22  1.2e-04  5.1e-05  8.8e-05  -1.24e-01  -2.182402096e+03  -2.181633874e+03  4.6e-06  0.26  \n",
      "23  4.8e-05  2.1e-05  3.7e-05  -1.15e-01  -2.745457050e+03  -2.744700657e+03  1.9e-06  0.26  \n",
      "24  2.4e-05  1.1e-05  1.9e-05  -7.36e-02  -3.288370378e+03  -3.287616351e+03  9.7e-07  0.26  \n",
      "25  1.2e-05  5.3e-06  9.7e-06  -2.11e-02  -3.875446806e+03  -3.874730135e+03  4.8e-07  0.27  \n",
      "26  8.0e-06  3.5e-06  6.5e-06  7.80e-03   -4.266619527e+03  -4.265914595e+03  3.2e-07  0.27  \n",
      "27  4.1e-06  1.8e-06  3.5e-06  5.21e-02   -4.913561031e+03  -4.912919760e+03  1.6e-07  0.28  \n",
      "28  1.9e-06  8.4e-07  1.7e-06  1.00e-01   -5.685121474e+03  -5.684529900e+03  7.7e-08  0.28  \n",
      "29  1.3e-06  5.7e-07  1.2e-06  1.51e-01   -6.098262963e+03  -6.097699250e+03  5.2e-08  0.29  \n",
      "30  7.3e-07  3.2e-07  7.1e-07  1.93e-01   -6.677992777e+03  -6.677501406e+03  2.9e-08  0.30  \n",
      "31  5.2e-07  2.3e-07  5.1e-07  2.27e-01   -7.055902803e+03  -7.055442098e+03  2.1e-08  0.30  \n",
      "32  2.6e-07  1.2e-07  3.0e-07  3.03e-01   -7.681539159e+03  -7.681174023e+03  1.1e-08  0.30  \n",
      "33  1.4e-07  6.1e-08  1.8e-07  4.34e-01   -8.194873762e+03  -8.194602354e+03  5.6e-09  0.32  \n",
      "34  4.0e-07  5.1e-08  1.6e-07  5.46e-01   -8.328042024e+03  -8.327795725e+03  4.6e-09  0.32  \n",
      "35  2.3e-07  4.4e-08  1.1e-07  6.58e-01   -8.639666072e+03  -8.639499483e+03  2.7e-09  0.33  \n",
      "36  1.4e-07  2.7e-08  8.3e-08  7.66e-01   -8.826915315e+03  -8.826801883e+03  1.7e-09  0.35  \n",
      "37  3.6e-08  1.5e-08  7.4e-08  8.65e-01   -8.885432012e+03  -8.885335834e+03  1.4e-09  0.36  \n",
      "38  2.7e-08  1.2e-08  6.6e-08  9.16e-01   -8.937611093e+03  -8.937531275e+03  1.1e-09  0.37  \n",
      "39  2.7e-08  1.2e-08  6.5e-08  8.60e-01   -8.939970123e+03  -8.939891022e+03  1.1e-09  0.39  \n",
      "40  8.0e-08  8.7e-09  4.6e-08  9.62e-01   -9.046299124e+03  -9.046253875e+03  5.9e-10  0.39  \n",
      "41  7.0e-08  8.0e-09  4.5e-08  8.48e-01   -9.053619756e+03  -9.053576883e+03  5.6e-10  0.40  \n",
      "42  4.5e-08  5.9e-09  4.4e-08  1.04e+00   -9.057555267e+03  -9.057513702e+03  5.4e-10  0.42  \n",
      "43  4.6e-08  5.8e-09  4.4e-08  1.09e+00   -9.058048298e+03  -9.058006897e+03  5.4e-10  0.43  \n",
      "44  5.0e-08  5.8e-09  4.4e-08  1.01e+00   -9.058992132e+03  -9.058951045e+03  5.4e-10  0.44  \n",
      "45  5.1e-08  5.8e-09  4.4e-08  9.97e-01   -9.059226546e+03  -9.059185536e+03  5.4e-10  0.46  \n",
      "46  7.2e-08  5.0e-09  4.1e-08  9.88e-01   -9.073787119e+03  -9.073750935e+03  4.7e-10  0.47  \n",
      "47  2.1e-07  4.7e-09  3.9e-08  9.79e-01   -9.080277789e+03  -9.080243798e+03  4.4e-10  0.48  \n",
      "48  2.1e-07  4.7e-09  3.9e-08  1.00e+00   -9.080284305e+03  -9.080250317e+03  4.4e-10  0.50  \n",
      "49  2.1e-07  4.7e-09  3.9e-08  1.38e+00   -9.080293824e+03  -9.080259839e+03  4.4e-10  0.52  \n",
      "50  2.1e-07  4.7e-09  3.9e-08  1.09e+00   -9.080293824e+03  -9.080259839e+03  4.4e-10  0.54  \n",
      "Optimizer terminated. Time: 0.56    \n",
      "\n",
      "\n",
      "Interior-point solution summary\n",
      "  Problem status  : PRIMAL_AND_DUAL_FEASIBLE\n",
      "  Solution status : OPTIMAL\n",
      "  Primal.  obj: -9.0802938242e+03   nrm: 8e+06    Viol.  con: 1e-04    var: 0e+00    cones: 0e+00  \n",
      "  Dual.    obj: -9.0802598386e+03   nrm: 3e+03    Viol.  con: 4e-06    var: 3e-04    cones: 0e+00  \n",
      "Stall\n",
      "  6.154788 seconds (2.37 M allocations: 7.656 GiB, 27.20% gc time)\n"
     ]
    },
    {
     "name": "stderr",
     "output_type": "stream",
     "text": [
      "┌ Warning: Problem status Stall; solution may be inaccurate.\n",
      "└ @ Convex /DATA/home/ppinsm/.julia/packages/Convex/6NNC8/src/solution.jl:51\n"
     ]
    },
    {
     "data": {
      "text/plain": [
       "Dict{Int64,Int64} with 10 entries:\n",
       "  100 => 4\n",
       "  102 => 5\n",
       "  98  => 3\n",
       "  101 => 3\n",
       "  99  => 2\n",
       "  103 => 3\n",
       "  104 => 2\n",
       "  97  => 5\n",
       "  96  => 1\n",
       "  105 => 2"
      ]
     },
     "execution_count": 15,
     "metadata": {},
     "output_type": "execute_result"
    }
   ],
   "source": [
    "@time aopt = sagnol_D(magic[cand,:], magic[samp1,:], N2; verbose=1, IC=0)\n",
    "\n",
    "n_try = 30\n",
    "\n",
    "apprx = zeros(Float64, n_try)\n",
    "apprx_size = zeros(Int64, n_try)\n",
    "for i = 1:n_try\n",
    "    bool_opt = rand(n-N1) .< aopt\n",
    "    apprx_size[i] = sum(bool_opt)\n",
    "    samp2 = [samp1; cand[bool_opt]]\n",
    "    apprx[i] = det(magic[samp2,:]'magic[samp2,:])\n",
    "end\n",
    "\n",
    "countmap(apprx_size)"
   ]
  },
  {
   "cell_type": "code",
   "execution_count": 16,
   "metadata": {},
   "outputs": [
    {
     "name": "stdout",
     "output_type": "stream",
     "text": [
      "Summary Stats:\n",
      "Length:         30\n",
      "Missing Count:  0\n",
      "Mean:           0.998754\n",
      "Minimum:        0.825276\n",
      "1st Quartile:   0.911174\n",
      "Median:         1.007646\n",
      "3rd Quartile:   1.081248\n",
      "Maximum:        1.213229\n",
      "Type:           Float64\n"
     ]
    }
   ],
   "source": [
    "describe(apprx ./ exact)"
   ]
  },
  {
   "cell_type": "code",
   "execution_count": null,
   "metadata": {
    "collapsed": true
   },
   "outputs": [],
   "source": []
  }
 ],
 "metadata": {
  "kernelspec": {
   "display_name": "Julia 1.2.0",
   "language": "julia",
   "name": "julia-1.2"
  },
  "language_info": {
   "file_extension": ".jl",
   "mimetype": "application/julia",
   "name": "julia",
   "version": "1.2.0"
  }
 },
 "nbformat": 4,
 "nbformat_minor": 2
}
