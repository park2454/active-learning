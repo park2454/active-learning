{
 "cells": [
  {
   "cell_type": "code",
   "execution_count": 7,
   "metadata": {},
   "outputs": [
    {
     "data": {
      "text/plain": [
       "(200, 11)"
      ]
     },
     "execution_count": 7,
     "metadata": {},
     "output_type": "execute_result"
    }
   ],
   "source": [
    "include(\"functions.jl\")\n",
    "\n",
    "magic = readdlm(\"magic04.data\", ',', Any, '\\n')\n",
    "magic = magic[sample(1:19020, 200, replace = false),:]\n",
    "loc = findall(x->x==\"g\",magic[:,11])\n",
    "magic[loc,11] .= 1\n",
    "loc = findall(x->x==\"h\",magic[:,11])\n",
    "magic[loc,11] .= 0\n",
    "magic = convert(Array{Float64}, magic)\n",
    "\n",
    "class = magic[:,11]\n",
    "magic[:,11] .= 1\n",
    "n, p = size(magic)"
   ]
  },
  {
   "cell_type": "markdown",
   "metadata": {},
   "source": [
    "Magic gamma telescope dataset\n",
    "- \\# of sample: 19,020\n",
    "- \\# of covariate: 11 (including intercept)\n",
    "- response: binary\n",
    "\n",
    "Choose $N_1$ random samples, and obtain $\\hat\\beta$ for the logistic regression model. Then, find a locally {$A_K$, $D$}-optimal design of sample size $N_2$ with $\\hat\\beta$."
   ]
  },
  {
   "cell_type": "markdown",
   "metadata": {},
   "source": [
    "#### Case 1, TED\n",
    "- $A_K$-optimality\n",
    "- $N_1$: 30\n",
    "- $N_2$: 100"
   ]
  },
  {
   "cell_type": "code",
   "execution_count": 13,
   "metadata": {
    "scrolled": false
   },
   "outputs": [
    {
     "name": "stdout",
     "output_type": "stream",
     "text": [
      "Problem\n",
      "  Name                   :                 \n",
      "  Objective sense        : min             \n",
      "  Type                   : CONIC (conic optimization problem)\n",
      "  Constraints            : 42887           \n",
      "  Cones                  : 171             \n",
      "  Scalar variables       : 80856           \n",
      "  Matrix variables       : 0               \n",
      "  Integer variables      : 171             \n",
      "\n",
      "Optimizer started.\n",
      "Mixed integer optimizer started.\n",
      "Threads used: 24\n",
      "Presolve started.\n",
      "Presolve terminated. Time = 1.39\n",
      "Presolved problem: 40682 variables, 2542 constraints, 816279 non-zeros\n",
      "Presolved problem: 0 general integer, 170 binary, 40512 continuous\n",
      "Clique table size: 0\n",
      "BRANCHES RELAXS   ACT_NDS  DEPTH    BEST_INT_OBJ         BEST_RELAX_OBJ       REL_GAP(%)  TIME  \n",
      "0        1        0        0        NA                   -3.0308183564e-01    NA          4.7   \n",
      "0        1        0        0        -2.9818481763e-01    -3.0308183564e-01    1.64        22.9  \n",
      "0        1        0        0        -3.0287075677e-01    -3.0308183564e-01    0.07        36.2  \n",
      "0        1        0        0        -3.0305839455e-01    -3.0308183564e-01    7.73e-03    46.5  \n",
      "An optimal solution satisfying the relative gap tolerance of 1.00e-02(%) has been located.\n",
      "The relative gap is 7.73e-03(%).\n",
      "\n",
      "Objective of best integer solution : -3.030583945490e-01     \n",
      "Best objective bound               : -3.030818356417e-01     \n",
      "Construct solution objective       : Not employed\n",
      "Construct solution # roundings     : 0\n",
      "User objective cut value           : 0\n",
      "Number of cuts generated           : 0\n",
      "Number of branches                 : 0\n",
      "Number of relaxations solved       : 1\n",
      "Number of interior point iterations: 9\n",
      "Number of simplex iterations       : 0\n",
      "Time spend presolving the root     : 1.39\n",
      "Time spend in the heuristic        : 0.00\n",
      "Time spend in the sub optimizers   : 0.00\n",
      "  Time spend optimizing the root   : 2.33\n",
      "Mixed integer optimizer terminated. Time: 46.52\n",
      "\n",
      "Optimizer terminated. Time: 46.65   \n",
      "\n",
      "\n",
      "Integer solution solution summary\n",
      "  Problem status  : PRIMAL_FEASIBLE\n",
      "  Solution status : INTEGER_OPTIMAL\n",
      "  Primal.  obj: -3.0305839455e-01   nrm: 1e+02    Viol.  con: 3e-06    var: 0e+00    cones: 0e+00    itg: 0e+00  \n",
      "Optimal\n",
      " 58.670288 seconds (2.29 M allocations: 18.662 GiB, 3.79% gc time)\n"
     ]
    },
    {
     "data": {
      "text/plain": [
       "170-element Array{Float64,1}:\n",
       " 1.0\n",
       " 1.0\n",
       " 1.0\n",
       " 1.0\n",
       " 0.0\n",
       " 1.0\n",
       " 0.0\n",
       " 0.0\n",
       " 0.0\n",
       " 0.0\n",
       " 0.0\n",
       " 0.0\n",
       " 0.0\n",
       " ⋮  \n",
       " 1.0\n",
       " 1.0\n",
       " 0.0\n",
       " 0.0\n",
       " 1.0\n",
       " 1.0\n",
       " 0.0\n",
       " 0.0\n",
       " 1.0\n",
       " 1.0\n",
       " 1.0\n",
       " 0.0"
      ]
     },
     "execution_count": 13,
     "metadata": {},
     "output_type": "execute_result"
    }
   ],
   "source": [
    "using BenchmarkTools, StatsBase\n",
    "\n",
    "Random.seed!(1)\n",
    "N1 = 30\n",
    "N2 = 100\n",
    "samp1 = sample(1:n, N1, replace = false)\n",
    "cand = setdiff(1:n, samp1)\n",
    "\n",
    "@time aopt = sagnol_A(magic[cand,:], magic[samp1,:], N2; K = magic', verbose=1, IC=1)"
   ]
  },
  {
   "cell_type": "code",
   "execution_count": 14,
   "metadata": {
    "scrolled": false
   },
   "outputs": [
    {
     "name": "stdout",
     "output_type": "stream",
     "text": [
      "Problem\n",
      "  Name                   :                 \n",
      "  Objective sense        : min             \n",
      "  Type                   : CONIC (conic optimization problem)\n",
      "  Constraints            : 43058           \n",
      "  Cones                  : 171             \n",
      "  Scalar variables       : 80856           \n",
      "  Matrix variables       : 0               \n",
      "  Integer variables      : 0               \n",
      "\n",
      "Optimizer started.\n",
      "Presolve started.\n",
      "Linear dependency checker started.\n",
      "Linear dependency checker terminated.\n",
      "Eliminator started.\n",
      "Freed constraints in eliminator : 171\n",
      "Eliminator terminated.\n",
      "Eliminator started.\n",
      "Freed constraints in eliminator : 0\n",
      "Eliminator terminated.\n",
      "Eliminator - tries                  : 2                 time                   : 0.00            \n",
      "Lin. dep.  - tries                  : 1                 time                   : 0.03            \n",
      "Lin. dep.  - number                 : 0               \n",
      "Presolve terminated. Time: 0.31    \n",
      "Problem\n",
      "  Name                   :                 \n",
      "  Objective sense        : min             \n",
      "  Type                   : CONIC (conic optimization problem)\n",
      "  Constraints            : 43058           \n",
      "  Cones                  : 171             \n",
      "  Scalar variables       : 80856           \n",
      "  Matrix variables       : 0               \n",
      "  Integer variables      : 0               \n",
      "\n",
      "Optimizer  - threads                : 24              \n",
      "Optimizer  - solved problem         : the dual        \n",
      "Optimizer  - Constraints            : 40341\n",
      "Optimizer  - Cones                  : 172\n",
      "Optimizer  - Scalar variables       : 42885             conic                  : 42544           \n",
      "Optimizer  - Semi-definite variables: 0                 scalarized             : 0               \n",
      "Factor     - setup time             : 9.95              dense det. time        : 1.67            \n",
      "Factor     - ML order time          : 1.69              GP order time          : 0.00            \n",
      "Factor     - nonzeros before factor : 1.10e+07          after factor           : 1.54e+07        \n",
      "Factor     - dense dim.             : 344               flops                  : 6.12e+09        \n",
      "ITE PFEAS    DFEAS    GFEAS    PRSTATUS   POBJ              DOBJ              MU       TIME  \n",
      "0   2.5e+01  1.0e+00  1.2e+00  0.00e+00   0.000000000e+00   -4.000000000e+00  1.0e+00  10.45 \n",
      "1   9.3e+00  3.7e-01  3.5e-01  7.53e+00   -1.909933767e-01  2.649456001e+01   3.7e-01  11.03 \n",
      "2   7.1e-01  2.8e-02  1.3e-01  1.47e+00   -2.283712448e-01  9.302958399e-01   2.8e-02  11.72 \n",
      "3   1.2e-01  4.7e-03  7.3e-02  1.02e+00   -2.381044365e-01  -1.513562102e-01  4.7e-03  12.42 \n",
      "4   2.1e-02  8.3e-04  4.5e-02  9.85e-01   -2.620287758e-01  -2.568129587e-01  8.3e-04  13.05 \n",
      "5   3.0e-03  1.2e-04  4.5e-02  9.14e-01   -2.933282895e-01  -2.936225395e-01  1.2e-04  13.66 \n",
      "6   1.5e-03  6.1e-05  3.4e-02  9.63e-01   -2.980787897e-01  -2.982413906e-01  6.1e-05  14.16 \n",
      "7   1.7e-04  7.0e-06  1.7e-02  9.86e-01   -3.022801182e-01  -3.023037054e-01  6.9e-06  14.83 \n",
      "8   2.7e-05  2.8e-06  6.6e-03  9.93e-01   -3.029559378e-01  -3.029596527e-01  1.1e-06  15.43 \n",
      "9   6.4e-06  6.4e-07  3.2e-03  1.00e+00   -3.030526031e-01  -3.030534656e-01  2.6e-07  16.27 \n",
      "10  9.8e-07  5.1e-07  1.2e-03  1.00e+00   -3.030776821e-01  -3.030778148e-01  4.0e-08  17.02 \n",
      "11  9.8e-07  5.1e-07  1.2e-03  1.00e+00   -3.030776821e-01  -3.030778148e-01  4.0e-08  17.71 \n",
      "Optimizer terminated. Time: 18.02   \n",
      "\n",
      "\n",
      "Interior-point solution summary\n",
      "  Problem status  : PRIMAL_AND_DUAL_FEASIBLE\n",
      "  Solution status : OPTIMAL\n",
      "  Primal.  obj: -3.0307768207e-01   nrm: 1e+02    Viol.  con: 8e-07    var: 0e+00    cones: 2e-08  \n",
      "  Dual.    obj: -3.0307781476e-01   nrm: 1e+00    Viol.  con: 2e-05    var: 1e-04    cones: 0e+00  \n",
      "Stall\n",
      " 30.577800 seconds (2.25 M allocations: 18.669 GiB, 7.61% gc time)\n"
     ]
    },
    {
     "name": "stderr",
     "output_type": "stream",
     "text": [
      "┌ Warning: Problem status Stall; solution may be inaccurate.\n",
      "└ @ Convex /DATA/home/ppinsm/.julia/packages/Convex/6NNC8/src/solution.jl:51\n"
     ]
    },
    {
     "data": {
      "text/plain": [
       "170-element Array{Float64,1}:\n",
       " 0.8879621453633537    \n",
       " 0.9999648928258077    \n",
       " 0.9998609379995613    \n",
       " 0.9999589387231197    \n",
       " 6.941027938368997e-5  \n",
       " 0.9999275656076103    \n",
       " 0.0001721885915834619 \n",
       " 8.888938581606475e-5  \n",
       " 0.11192619146478118   \n",
       " 7.678611206766448e-5  \n",
       " 0.00031226427559011445\n",
       " 0.00016611892738583914\n",
       " 7.491940688676624e-5  \n",
       " ⋮                     \n",
       " 0.9999887666152294    \n",
       " 0.9999554783830741    \n",
       " 0.00013759134689405716\n",
       " 7.29448885497251e-5   \n",
       " 0.9999913816214989    \n",
       " 0.9999645973860484    \n",
       " 7.130257257343016e-5  \n",
       " 0.13663600083345256   \n",
       " 0.9999380705736722    \n",
       " 0.9999756282229514    \n",
       " 0.9972848834887176    \n",
       " 8.605691771128575e-5  "
      ]
     },
     "execution_count": 14,
     "metadata": {},
     "output_type": "execute_result"
    }
   ],
   "source": [
    "@time aopt = sagnol_A(magic[cand,:], magic[samp1,:], N2; K = magic', verbose=1, IC=0)"
   ]
  },
  {
   "cell_type": "code",
   "execution_count": 15,
   "metadata": {},
   "outputs": [
    {
     "name": "stdout",
     "output_type": "stream",
     "text": [
      "Optimal\n",
      " 56.415248 seconds (2.28 M allocations: 18.662 GiB, 3.70% gc time)\n",
      "100\n"
     ]
    },
    {
     "data": {
      "text/plain": [
       "13.198777128972031"
      ]
     },
     "execution_count": 15,
     "metadata": {},
     "output_type": "execute_result"
    }
   ],
   "source": [
    "#N1 = 30\n",
    "#N2 = 100\n",
    "#samp1 = sample(1:n, N1, replace = false)\n",
    "\n",
    "@time aopt = sagnol_A(magic[cand,:], magic[samp1,:], N2; K = magic', verbose=0, IC=1)\n",
    "aopt = BitArray(round.(aopt))\n",
    "println(sum(aopt))\n",
    "samp2 = [samp1; cand[aopt]]\n",
    "exact = tr(magic*((magic[samp2,:]'magic[samp2,:])\\(magic')))"
   ]
  },
  {
   "cell_type": "code",
   "execution_count": 16,
   "metadata": {},
   "outputs": [
    {
     "name": "stdout",
     "output_type": "stream",
     "text": [
      "Stall\n",
      " 30.222466 seconds (2.25 M allocations: 18.669 GiB, 7.21% gc time)\n"
     ]
    },
    {
     "name": "stderr",
     "output_type": "stream",
     "text": [
      "┌ Warning: Problem status Stall; solution may be inaccurate.\n",
      "└ @ Convex /DATA/home/ppinsm/.julia/packages/Convex/6NNC8/src/solution.jl:51\n"
     ]
    },
    {
     "data": {
      "text/plain": [
       "Dict{Int64,Int64} with 5 entries:\n",
       "  100 => 9\n",
       "  102 => 2\n",
       "  98  => 2\n",
       "  101 => 8\n",
       "  99  => 9"
      ]
     },
     "execution_count": 16,
     "metadata": {},
     "output_type": "execute_result"
    }
   ],
   "source": [
    "@time aopt = sagnol_A(magic[setdiff(1:n, samp1),:], magic[samp1,:], N2; K = magic', verbose=0, IC=0)\n",
    "\n",
    "n_try = 30\n",
    "\n",
    "apprx = zeros(Float64, n_try)\n",
    "apprx_size = zeros(Int64, n_try)\n",
    "for i = 1:n_try\n",
    "    bool_opt = rand(n-N1) .< aopt\n",
    "    apprx_size[i] = sum(bool_opt)\n",
    "    samp2 = [samp1; cand[bool_opt]]\n",
    "    apprx[i] = tr(magic*((magic[samp2,:]'magic[samp2,:])\\(magic')))\n",
    "end\n",
    "\n",
    "countmap(apprx_size)"
   ]
  },
  {
   "cell_type": "code",
   "execution_count": 17,
   "metadata": {},
   "outputs": [
    {
     "name": "stdout",
     "output_type": "stream",
     "text": [
      "Summary Stats:\n",
      "Length:         30\n",
      "Missing Count:  0\n",
      "Mean:           0.999666\n",
      "Minimum:        0.991286\n",
      "1st Quartile:   0.995677\n",
      "Median:         0.999820\n",
      "3rd Quartile:   1.004053\n",
      "Maximum:        1.008297\n",
      "Type:           Float64\n"
     ]
    }
   ],
   "source": [
    "describe(exact ./ apprx)"
   ]
  },
  {
   "cell_type": "code",
   "execution_count": null,
   "metadata": {
    "collapsed": true
   },
   "outputs": [],
   "source": []
  }
 ],
 "metadata": {
  "kernelspec": {
   "display_name": "Julia 1.2.0",
   "language": "julia",
   "name": "julia-1.2"
  },
  "language_info": {
   "file_extension": ".jl",
   "mimetype": "application/julia",
   "name": "julia",
   "version": "1.2.0"
  }
 },
 "nbformat": 4,
 "nbformat_minor": 2
}
