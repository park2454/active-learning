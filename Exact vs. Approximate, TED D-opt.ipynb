{
 "cells": [
  {
   "cell_type": "code",
   "execution_count": 1,
   "metadata": {},
   "outputs": [
    {
     "data": {
      "text/plain": [
       "(200, 11)"
      ]
     },
     "execution_count": 1,
     "metadata": {},
     "output_type": "execute_result"
    }
   ],
   "source": [
    "include(\"functions.jl\")\n",
    "\n",
    "magic = readdlm(\"magic04.data\", ',', Any, '\\n')\n",
    "magic = magic[sample(1:19020, 200, replace = false),:]\n",
    "loc = findall(x->x==\"g\",magic[:,11])\n",
    "magic[loc,11] .= 1\n",
    "loc = findall(x->x==\"h\",magic[:,11])\n",
    "magic[loc,11] .= 0\n",
    "magic = convert(Array{Float64}, magic)\n",
    "\n",
    "class = magic[:,11]\n",
    "magic[:,11] .= 1\n",
    "n, p = size(magic)"
   ]
  },
  {
   "cell_type": "markdown",
   "metadata": {},
   "source": [
    "Magic gamma telescope dataset\n",
    "- \\# of sample: 19,020\n",
    "- \\# of covariate: 11 (including intercept)\n",
    "- response: binary\n",
    "\n",
    "Choose $N_1$ random samples, and obtain $\\hat\\beta$ for the logistic regression model. Then, find a locally {$A_K$, $D$}-optimal design of sample size $N_2$ with $\\hat\\beta$."
   ]
  },
  {
   "cell_type": "markdown",
   "metadata": {},
   "source": [
    "#### Case 2, TED\n",
    "- $D_K$-optimality\n",
    "- $N_1$: 30\n",
    "- $N_2$: 100"
   ]
  },
  {
   "cell_type": "code",
   "execution_count": null,
   "metadata": {
    "scrolled": false
   },
   "outputs": [
    {
     "name": "stdout",
     "output_type": "stream",
     "text": [
      "Problem\n",
      "  Name                   :                 \n",
      "  Objective sense        : min             \n",
      "  Type                   : CONIC (conic optimization problem)\n",
      "  Constraints            : 199911          \n",
      "  Cones                  : 34402           \n",
      "  Scalar variables       : 257982          \n",
      "  Matrix variables       : 0               \n",
      "  Integer variables      : 171             \n",
      "\n",
      "Optimizer started.\n",
      "Mixed integer optimizer started.\n",
      "Threads used: 24\n",
      "Presolve started.\n",
      "Presolve terminated. Time = 4.75\n",
      "Presolved problem: 163276 variables, 71005 constraints, 900377 non-zeros\n",
      "Presolved problem: 0 general integer, 170 binary, 163106 continuous\n",
      "Clique table size: 0\n",
      "BRANCHES RELAXS   ACT_NDS  DEPTH    BEST_INT_OBJ         BEST_RELAX_OBJ       REL_GAP(%)  TIME  \n",
      "0        2        0        0        NA                   NA                   NA          27.6  \n",
      "Cut generation started.\n",
      "Cut generation terminated. Time = 13.39\n",
      "7        17       8        2        NA                   1.0000000000e+300    NA          261.2 \n",
      "15       33       16       3        NA                   1.0000000000e+300    NA          300.5 \n",
      "31       65       32       4        NA                   1.0000000000e+300    NA          357.3 \n",
      "55       113      56       5        NA                   1.0000000000e+300    NA          441.6 \n",
      "103      209      104      6        NA                   1.0000000000e+300    NA          608.7 \n",
      "199      401      200      9        NA                   1.0000000000e+300    NA          945.1 \n",
      "391      785      392      17       NA                   1.0000000000e+300    NA          1659.9\n",
      "607      1217     608      26       NA                   1.0000000000e+300    NA          2411.5\n",
      "824      1651     825      35       NA                   1.0000000000e+300    NA          3171.2\n",
      "1052     2107     1053     44       NA                   1.0000000000e+300    NA          3934.9\n",
      "1281     2565     1282     54       NA                   1.0000000000e+300    NA          4684.6\n",
      "1497     2997     1498     63       NA                   1.0000000000e+300    NA          5374.4\n",
      "1713     3429     1714     72       NA                   1.0000000000e+300    NA          6056.6\n",
      "1929     3861     1930     81       NA                   1.0000000000e+300    NA          6706.2\n",
      "2145     4293     2146     90       NA                   1.0000000000e+300    NA          7345.1\n",
      "2361     4725     2362     99       NA                   1.0000000000e+300    NA          7977.4\n",
      "2577     5157     2472     104      NA                   1.0000000000e+300    NA          8592.3\n",
      "2793     5589     2476     108      NA                   1.0000000000e+300    NA          9181.8\n",
      "3009     6021     2472     113      NA                   1.0000000000e+300    NA          9773.9\n",
      "3225     6453     2476     117      NA                   1.0000000000e+300    NA          10349.6\n",
      "3441     6885     2472     122      NA                   1.0000000000e+300    NA          10915.8\n",
      "3657     7317     2476     126      NA                   1.0000000000e+300    NA          11487.5\n",
      "3873     7749     2472     131      NA                   1.0000000000e+300    NA          12066.1\n",
      "4089     8181     2476     135      NA                   1.0000000000e+300    NA          12643.1\n",
      "4305     8613     2472     140      NA                   1.0000000000e+300    NA          13214.1\n",
      "4511     9025     2486     144      NA                   1.0000000000e+300    NA          13772.8\n",
      "4727     9457     2462     149      NA                   1.0000000000e+300    NA          14330.8\n",
      "4943     9889     2486     153      NA                   1.0000000000e+300    NA          14888.4\n",
      "5159     10321    2462     158      NA                   1.0000000000e+300    NA          15455.2\n",
      "5375     10753    2486     162      NA                   1.0000000000e+300    NA          16037.2\n",
      "5591     11185    2462     167      NA                   1.0000000000e+300    NA          16599.6\n",
      "5807     11617    2546     45       NA                   1.0000000000e+300    NA          17207.6\n",
      "6023     12049    2752     68       NA                   1.0000000000e+300    NA          17868.3\n",
      "6218     12439    2945     72       NA                   1.0000000000e+300    NA          18547.1\n",
      "6434     12871    3159     81       NA                   1.0000000000e+300    NA          19211.0\n",
      "6650     13303    3369     97       NA                   1.0000000000e+300    NA          19875.9\n",
      "6866     13735    3571     90       NA                   1.0000000000e+300    NA          20517.5\n",
      "7082     14167    3765     47       NA                   1.0000000000e+300    NA          21165.7\n",
      "7298     14599    3953     95       NA                   1.0000000000e+300    NA          21822.2\n",
      "7514     15031    4161     63       NA                   1.0000000000e+300    NA          22482.9\n",
      "7730     15463    4367     82       NA                   1.0000000000e+300    NA          23124.0\n",
      "7946     15895    4571     91       NA                   1.0000000000e+300    NA          23765.4\n",
      "8162     16327    4771     98       NA                   1.0000000000e+300    NA          24430.1\n",
      "8379     16761    4974     102      NA                   1.0000000000e+300    NA          25100.4\n",
      "8595     17193    5174     75       NA                   1.0000000000e+300    NA          25747.0\n",
      "8811     17625    5368     69       NA                   1.0000000000e+300    NA          26382.7\n",
      "9027     18057    5560     55       NA                   1.0000000000e+300    NA          27021.7\n",
      "9243     18489    5762     96       NA                   1.0000000000e+300    NA          27659.6\n",
      "9459     18921    5968     42       NA                   1.0000000000e+300    NA          28315.0\n"
     ]
    }
   ],
   "source": [
    "using BenchmarkTools, StatsBase\n",
    "\n",
    "Random.seed!(1)\n",
    "N1 = 30\n",
    "N2 = 100\n",
    "samp1 = sample(1:n, N1, replace = false)\n",
    "cand = setdiff(1:n, samp1)\n",
    "\n",
    "@time aopt = sagnol_D(magic[cand,:], magic[samp1,:], N2; K = magic', verbose=1, IC=1)\n",
    "aopt = BitArray(round.(aopt))\n",
    "println(sum(aopt))\n",
    "samp2 = [samp1; cand[aopt]]\n",
    "exact = det((magic[samp2,:]'magic[samp2,:])\\(magic')))"
   ]
  },
  {
   "cell_type": "code",
   "execution_count": null,
   "metadata": {
    "collapsed": true,
    "scrolled": true
   },
   "outputs": [],
   "source": [
    "@time aopt = sagnol_D(magic[cand,:], magic[samp1,:], N2; K = magic', verbose=1, IC=0)\n",
    "\n",
    "n_try = 30\n",
    "\n",
    "apprx = zeros(Float64, n_try)\n",
    "apprx_size = zeros(Int64, n_try)\n",
    "for i = 1:n_try\n",
    "    bool_opt = rand(n-N1) .< aopt\n",
    "    apprx_size = sum(bool_opt)\n",
    "    samp2 = [samp1; cand[bool_opt]]\n",
    "    apprx[i] = det(magic*((magic[samp2,:]'magic[samp2,:])\\(magic')))\n",
    "end\n",
    "\n",
    "countmap(apprx_size)"
   ]
  },
  {
   "cell_type": "code",
   "execution_count": null,
   "metadata": {
    "collapsed": true
   },
   "outputs": [],
   "source": [
    "describe(apprx)"
   ]
  },
  {
   "cell_type": "code",
   "execution_count": null,
   "metadata": {
    "collapsed": true
   },
   "outputs": [],
   "source": [
    "#N1 = 30\n",
    "#N2 = 100\n",
    "#samp1 = sample(1:n, N1, replace = false)\n",
    "#cand = setdiff(1:n, samp1)\n",
    "\n",
    "@time aopt = sagnol_D(magic[cand,:], magic[samp1,:], N2; K = magic', verbose=0, IC=1)\n",
    "aopt = BitArray(round.(aopt))\n",
    "println(sum(aopt))\n",
    "samp2 = [samp1; cand[aopt]]\n",
    "exact = det((magic[samp2,:]'magic[samp2,:])\\(magic')))"
   ]
  },
  {
   "cell_type": "code",
   "execution_count": null,
   "metadata": {
    "collapsed": true
   },
   "outputs": [],
   "source": [
    "@time aopt = sagnol_D(magic[setdiff(1:n, samp1),:], magic[samp1,:], N2; K = magic', verbose=0, IC=0)\n",
    "\n",
    "n_try = 30\n",
    "\n",
    "apprx = zeros(Float64, n_try)\n",
    "apprx_size = zeros(Int64, n_try)\n",
    "for i = 1:n_try\n",
    "    bool_opt = rand(n-N1) .< aopt\n",
    "    apprx_size = sum(bool_opt)\n",
    "    samp2 = [samp1; cand[bool_opt]]\n",
    "    apprx[i] = det(magic*((magic[samp2,:]'magic[samp2,:])\\(magic')))\n",
    "end\n",
    "\n",
    "countmap(apprx_size)"
   ]
  },
  {
   "cell_type": "code",
   "execution_count": null,
   "metadata": {
    "collapsed": true
   },
   "outputs": [],
   "source": [
    "describe(apprx)"
   ]
  },
  {
   "cell_type": "code",
   "execution_count": null,
   "metadata": {
    "collapsed": true
   },
   "outputs": [],
   "source": []
  }
 ],
 "metadata": {
  "kernelspec": {
   "display_name": "Julia 1.2.0",
   "language": "julia",
   "name": "julia-1.2"
  },
  "language_info": {
   "file_extension": ".jl",
   "mimetype": "application/julia",
   "name": "julia",
   "version": "1.2.0"
  }
 },
 "nbformat": 4,
 "nbformat_minor": 2
}
