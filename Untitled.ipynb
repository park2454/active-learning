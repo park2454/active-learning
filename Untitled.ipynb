{
 "cells": [
  {
   "cell_type": "code",
   "execution_count": 11,
   "metadata": {
    "scrolled": true
   },
   "outputs": [
    {
     "ename": "ArgumentError",
     "evalue": "ArgumentError: Cannot open 'trainingData.csv': not a file",
     "output_type": "error",
     "traceback": [
      "ArgumentError: Cannot open 'trainingData.csv': not a file",
      "",
      "Stacktrace:",
      " [1] #readdlm_auto#9(::Base.Iterators.Pairs{Union{},Union{},Tuple{},NamedTuple{(),Tuple{}}}, ::typeof(DelimitedFiles.readdlm_auto), ::String, ::Char, ::Type, ::Char, ::Bool) at /buildworker/worker/package_linux64/build/usr/share/julia/stdlib/v1.2/DelimitedFiles/src/DelimitedFiles.jl:233",
      " [2] readdlm_auto at /buildworker/worker/package_linux64/build/usr/share/julia/stdlib/v1.2/DelimitedFiles/src/DelimitedFiles.jl:233 [inlined]",
      " [3] #readdlm#6 at /buildworker/worker/package_linux64/build/usr/share/julia/stdlib/v1.2/DelimitedFiles/src/DelimitedFiles.jl:225 [inlined]",
      " [4] readdlm(::String, ::Char, ::Type, ::Char) at /buildworker/worker/package_linux64/build/usr/share/julia/stdlib/v1.2/DelimitedFiles/src/DelimitedFiles.jl:225",
      " [5] top-level scope at In[11]:16"
     ]
    }
   ],
   "source": [
    "using Random, Combinatorics, LinearAlgebra, Convex, Mosek, BenchmarkTools, DelimitedFiles, StatsBase, JLD2, FileIO\n",
    "include(\"functions.jl\")\n",
    "\n",
    "\n",
    "\n",
    "Random.seed!(1992)\n",
    "\n",
    "μ = 0.1\n",
    "γ = 1\n",
    "k = collect(5:5:50)\n",
    "\n",
    "mse = zeros(10,5,100)\n",
    "mse_test = zeros(10,5,100)\n",
    "\n",
    "rep =1\n",
    "    wifi = readdlm(\"trainingData.csv\",',',Any,'\\n')\n",
    "    colnames = wifi[1,:]\n",
    "    wifi = wifi[2:end,1:end-1]\n",
    "    n, p = size(wifi)\n",
    "    wifi = wifi[sample(1:n, 100, replace = false),:]\n",
    "    y = convert(Array{Float64,1}, wifi[:,523])\n",
    "    X = convert(Array{Float64, 2}, wifi[:,1:200])\n",
    "    n, p = size(X)\n",
    "\n",
    "    test = readdlm(\"validationData.csv\",',',Any,'\\n')\n",
    "    test = test[2:end,:]\n",
    "    n_test, p_test = size(test)\n",
    "    test = test[sample(1:n_test, 100, replace = false),:]\n",
    "    y_test = convert(Array{Float64,1}, test[:,523])\n",
    "    X_test = convert(Array{Float64, 2}, test[:,1:200])\n",
    "i=1\n"
   ]
  },
  {
   "cell_type": "code",
   "execution_count": 2,
   "metadata": {},
   "outputs": [
    {
     "data": {
      "text/plain": [
       "6-element Array{Symbol,1}:\n",
       " :SOCP_memory  \n",
       " :SOCP_sample  \n",
       " :SOCP_median  \n",
       " :MISOCP_memory\n",
       " :MISOCP_sample\n",
       " :MISOCP_median"
      ]
     },
     "execution_count": 2,
     "metadata": {},
     "output_type": "execute_result"
    }
   ],
   "source": [
    "@load \"bench.jld2\" "
   ]
  },
  {
   "cell_type": "code",
   "execution_count": 32,
   "metadata": {},
   "outputs": [
    {
     "data": {
      "text/plain": [
       "1.2037111425249247"
      ]
     },
     "execution_count": 32,
     "metadata": {},
     "output_type": "execute_result"
    }
   ],
   "source": [
    "# sequential\n",
    "cand = alg1(X,k[i])\n",
    "X0 = X[cand,:]\n",
    "y0 = y[cand]\n",
    "β = (X0'X0+μ*I)\\(X0'y0)\n",
    "mse[i,3,rep] = sum(abs2, y - X*β) / length(y)\n",
    "mse_test[i,3,rep] = sum(abs2, y_test - X_test*β) / length(y_test)"
   ]
  },
  {
   "cell_type": "code",
   "execution_count": null,
   "metadata": {
    "collapsed": true
   },
   "outputs": [],
   "source": [
    "\n",
    "        # relaxation\n",
    "        cand = alg4(X,k[i])\n",
    "        X0 = X[cand,:]\n",
    "        Y0 = y[cand]\n",
    "        β = (X0'X0+μ*I)\\(X0'y)\n",
    "        mse[i,4,rep] = sum(abs2, y - X*β) / length(y)\n",
    "        mse_test[i,4,rep] = sum(abs2, y_test - X_test*β) / length(y_test)\n",
    "    \n",
    "        # random sampling\n",
    "        cand = sample(1:n, k ,replace=false)\n",
    "        X0 = X[cand,:]\n",
    "        Y0 = y[cand]\n",
    "        β = (X0'X0+μ*I)\\(X0'y)\n",
    "        mse[i,5,rep] = sum(abs2, y - X*β) / length(y)\n",
    "        mse_test[i,5,rep] = sum(abs2, y_test - X_test*β) / length(y_test)\n",
    "\n",
    "        println(\"$i / 10 iteration in $rep / 100 repitition complete\")"
   ]
  },
  {
   "cell_type": "code",
   "execution_count": 9,
   "metadata": {
    "scrolled": false
   },
   "outputs": [
    {
     "data": {
      "text/plain": [
       "1111×200 Array{Float64,2}:\n",
       " 100.0  100.0  100.0  100.0  100.0  …  100.0  100.0  100.0  100.0  100.0\n",
       " 100.0  100.0  100.0  100.0  100.0     100.0  100.0  100.0  100.0  100.0\n",
       " 100.0  100.0  100.0  100.0  100.0     100.0  100.0  100.0  100.0  100.0\n",
       " 100.0  100.0  100.0  100.0  100.0     100.0  100.0  100.0  100.0  100.0\n",
       " 100.0  100.0  100.0  100.0  100.0     100.0  100.0  100.0  100.0  100.0\n",
       " 100.0  100.0  100.0  100.0  100.0  …  100.0  100.0  100.0  100.0  100.0\n",
       " 100.0  100.0  100.0  100.0  100.0     100.0  100.0  100.0  100.0  100.0\n",
       " 100.0  100.0  100.0  100.0  100.0     100.0  100.0  100.0  100.0  100.0\n",
       " 100.0  100.0  100.0  100.0  100.0     100.0  100.0  100.0  100.0  100.0\n",
       " 100.0  100.0  100.0  100.0  100.0     100.0  100.0  100.0  100.0  100.0\n",
       " 100.0  100.0  100.0  100.0  100.0  …  100.0  100.0  100.0  100.0  100.0\n",
       " 100.0  100.0  100.0  100.0  100.0     100.0  100.0  100.0  100.0  100.0\n",
       " 100.0  100.0  100.0  100.0  100.0     100.0  100.0  100.0  100.0  100.0\n",
       "   ⋮                                ⋱    ⋮                              \n",
       " 100.0  100.0  100.0  100.0  100.0     100.0  100.0  100.0  100.0  100.0\n",
       " 100.0  100.0  100.0  100.0  100.0  …  100.0  100.0  100.0  100.0  100.0\n",
       " 100.0  100.0  100.0  100.0  100.0     100.0  100.0  100.0  100.0  100.0\n",
       " 100.0  100.0  100.0  100.0  100.0     100.0  100.0  100.0  100.0  100.0\n",
       " 100.0  100.0  100.0  100.0  100.0     100.0  100.0  100.0  100.0  100.0\n",
       " 100.0  100.0  100.0  100.0  100.0     100.0  100.0  100.0  100.0  100.0\n",
       " 100.0  100.0  100.0  100.0  100.0  …  100.0  100.0  100.0  100.0  100.0\n",
       " 100.0  100.0  100.0  100.0  100.0     100.0  100.0  100.0  100.0  100.0\n",
       " 100.0  100.0  100.0  100.0  100.0     100.0  100.0  100.0  100.0  100.0\n",
       " 100.0  100.0  100.0  100.0  100.0     100.0  100.0  100.0  100.0  100.0\n",
       " 100.0  100.0  100.0  100.0  100.0     100.0  100.0  100.0  100.0  100.0\n",
       " 100.0  100.0  100.0  100.0  100.0  …  100.0  100.0  100.0  100.0  100.0"
      ]
     },
     "execution_count": 9,
     "metadata": {},
     "output_type": "execute_result"
    }
   ],
   "source": [
    "Random.seed!(1992)\n",
    "wifi = readdlm(\"trainingData.csv\",',',Any,'\\n')\n",
    "colnames = wifi[1,:]\n",
    "wifi = wifi[2:end,1:end-1]\n",
    "n, p = size(wifi)\n",
    "wifi = wifi[sample(1:n, 100, replace = false),:]\n",
    "y = convert(Array{Float64,1}, wifi[:,523])\n",
    "X = convert(Array{Float64, 2}, wifi[:,1:200])\n",
    "n, p = size(X)\n",
    "\n",
    "test = readdlm(\"validationData.csv\",',',Any,'\\n')\n",
    "test = test[2:end,:]\n",
    "y_test = convert(Array{Float64,1}, test[:,523])\n",
    "X_test = convert(Array{Float64, 2}, test[:,1:200])"
   ]
  },
  {
   "cell_type": "code",
   "execution_count": 10,
   "metadata": {},
   "outputs": [
    {
     "name": "stdout",
     "output_type": "stream",
     "text": [
      "2\n",
      "3\n",
      "4\n",
      "5\n",
      "6\n",
      "7\n",
      "8\n",
      "9\n",
      "10\n",
      "11\n",
      "12\n",
      "13\n",
      "14\n",
      "15\n",
      "16\n",
      "17\n",
      "18\n",
      "19\n",
      "20\n",
      "21\n",
      "22\n",
      "23\n",
      "24\n",
      "25\n",
      "26\n"
     ]
    }
   ],
   "source": [
    "μ_list = 10 .^ (-2.0:2.0)\n",
    "γ_list = 10 .^ (-2.0:2.0)\n",
    "\n",
    "test = zeros(25,100)\n",
    "\n",
    "cnt = 1\n",
    "for i = 1:5\n",
    "    for j = 1:5\n",
    "        test[cnt,:] = alg4(X,100, μ=μ_list[i], γ=γ_list[j])\n",
    "        cnt += 1\n",
    "        println(cnt)\n",
    "    end\n",
    "end"
   ]
  },
  {
   "cell_type": "code",
   "execution_count": 21,
   "metadata": {
    "collapsed": true
   },
   "outputs": [],
   "source": [
    "transition = []\n",
    "for i = 1:24\n",
    "    if test[i,1:5] != test[i+1,1:5]\n",
    "        push!(transition, i)\n",
    "    end\n",
    "end"
   ]
  },
  {
   "cell_type": "code",
   "execution_count": 24,
   "metadata": {},
   "outputs": [
    {
     "data": {
      "text/plain": [
       "100"
      ]
     },
     "execution_count": 24,
     "metadata": {},
     "output_type": "execute_result"
    }
   ],
   "source": [
    "hi = 100"
   ]
  },
  {
   "cell_type": "code",
   "execution_count": 27,
   "metadata": {},
   "outputs": [
    {
     "name": "stdout",
     "output_type": "stream",
     "text": [
      "10000\n"
     ]
    }
   ],
   "source": [
    "println(\"$(hi*100)\")"
   ]
  },
  {
   "cell_type": "code",
   "execution_count": 22,
   "metadata": {},
   "outputs": [
    {
     "data": {
      "text/plain": [
       "0-element Array{Any,1}"
      ]
     },
     "execution_count": 22,
     "metadata": {},
     "output_type": "execute_result"
    }
   ],
   "source": [
    "transition"
   ]
  },
  {
   "cell_type": "code",
   "execution_count": null,
   "metadata": {
    "collapsed": true
   },
   "outputs": [],
   "source": [
    "μ = 0.1\n",
    "γ = 10\n",
    "k = collect(5:5:50)"
   ]
  },
  {
   "cell_type": "code",
   "execution_count": null,
   "metadata": {
    "collapsed": true
   },
   "outputs": [],
   "source": [
    "mse = zeros(10,4)\n",
    "mse_rep = zeros(10,4,100)\n",
    "\n",
    "for i = 1:length(k)\n",
    "    # SOCP\n",
    "    cand = partialsortperm(sagnol_A(X, μ*Diagonal(ones(p)), k[i]; K=X', verbose=0, IC=0), 1:k[i], rev=true)\n",
    "    U, D, V = svd(X[cand,:])\n",
    "    rk = rank(X[cand,:])\n",
    "    D[rk+1:end] .= Inf\n",
    "    D = 1 ./ D\n",
    "    β = V*Diagonal(D)*U'y[cand]\n",
    "    mse[i,1] = sum(abs2, y_test - X_test*β) / length(y_test)\n",
    "\n",
    "    # sequential\n",
    "    cand = alg1(X,k[i])\n",
    "    U, D, V = svd(X[cand,:])\n",
    "    rk = rank(X[cand,:])\n",
    "    D[rk+1:end] .= Inf\n",
    "    D = 1 ./ D\n",
    "    β = V*Diagonal(D)*U'y[cand]\n",
    "    mse[i,2] = sum(abs2, y_test - X_test*β) / length(y_test)\n",
    "\n",
    "    # relaxation\n",
    "    cand = alg4(X,k[i])\n",
    "    U, D, V = svd(X[cand,:])\n",
    "    rk = rank(X[cand,:])\n",
    "    D[rk+1:end] .= Inf\n",
    "    D = 1 ./ D\n",
    "    β = V*Diagonal(D)*U'y[cand]\n",
    "    mse[i,3] = sum(abs2, y_test - X_test*β) / length(y_test)\n",
    "    \n",
    "    @save \"comparison.jld2\" mse mse_rep\n",
    "    println(i)\n",
    "    println(\"SOCP\")\n",
    "end\n",
    "\n",
    "for i = 1:length(k)\n",
    "    # MISOCP\n",
    "    cand = partialsortperm(sagnol_A(X, μ*Diagonal(ones(p)), k[i]; K=X', verbose=0, IC=1), 1:k[i], rev=true)\n",
    "    U, D, V = svd(X[cand,:])\n",
    "    rk = rank(X[cand,:])\n",
    "    D[rk+1:end] .= Inf\n",
    "    D = 1 ./ D\n",
    "    β = V*Diagonal(D)*U'y[cand]\n",
    "    mse[i,1] = sum(abs2, y_test - X_test*β) / length(y_test)\n",
    "    \n",
    "    @save \"comparison.jld2\" mse mse_rep\n",
    "    println(i)\n",
    "    println(\"MISOCP\")\n",
    "end\n",
    "\n",
    "\n",
    "\n",
    "for rep = 1:100\n",
    "    wifi = readdlm(\"trainingData.csv\",',',Any,'\\n')\n",
    "    colnames = wifi[1,:]\n",
    "    wifi = wifi[2:end,1:end-1]\n",
    "    n, p = size(wifi)\n",
    "    wifi = wifi[sample(1:n, 100, replace = false),:]\n",
    "    y = convert(Array{Float64,1}, wifi[:,523])\n",
    "    X = convert(Array{Float64, 2}, wifi[:,1:200])\n",
    "    n, p = size(X)\n",
    "\n",
    "    for i = 1:length(k)\n",
    "        # SOCP\n",
    "        cand = partialsortperm(sagnol_A(X, μ*Diagonal(ones(p)), k[i]; K=X', verbose=0, IC=0), 1:k[i], rev=true)\n",
    "        U, D, V = svd(X[cand,:])\n",
    "        rk = rank(X[cand,:])\n",
    "        D[rk+1:end] .= Inf\n",
    "        D = 1 ./ D\n",
    "        β = V*Diagonal(D)*U'y[cand]\n",
    "        mse_rep[i,1,rep] = sum(abs2, y_test - X_test*β) / length(y_test)\n",
    "\n",
    "        # sequential\n",
    "        cand = alg1(X,k[i])\n",
    "        U, D, V = svd(X[cand,:])\n",
    "        rk = rank(X[cand,:])\n",
    "        D[rk+1:end] .= Inf\n",
    "        D = 1 ./ D\n",
    "        β = V*Diagonal(D)*U'y[cand]\n",
    "        mse_rep[i,1,rep] = sum(abs2, y_test - X_test*β) / length(y_test)\n",
    "\n",
    "        # relaxation\n",
    "        cand = alg4(X,k[i])\n",
    "        U, D, V = svd(X[cand,:])\n",
    "        rk = rank(X[cand,:])\n",
    "        D[rk+1:end] .= Inf\n",
    "        D = 1 ./ D\n",
    "        β = V*Diagonal(D)*U'y[cand]\n",
    "        mse_rep[i,1,rep] = sum(abs2, y_test - X_test*β) / length(y_test)\n",
    "\n",
    "        # MISOCP\n",
    "        cand = partialsortperm(sagnol_A(X, μ*Diagonal(ones(p)), k[i]; K=X', verbose=0, IC=1), 1:k[i], rev=true)\n",
    "        U, D, V = svd(X[cand,:])\n",
    "        rk = rank(X[cand,:])\n",
    "        D[rk+1:end] .= Inf\n",
    "        D = 1 ./ D\n",
    "        β = V*Diagonal(D)*U'y[cand]\n",
    "        mse_rep[i,1,rep] = sum(abs2, y_test - X_test*β) / length(y_test)\n",
    "\n",
    "        @save \"comparison.jld2\" mse mse_rep\n",
    "        println(i)\n",
    "        println(rep)\n",
    "        println(\"rep\")\n",
    "    end\n",
    "end"
   ]
  },
  {
   "cell_type": "code",
   "execution_count": 2,
   "metadata": {
    "collapsed": true
   },
   "outputs": [],
   "source": [
    "using FileIO, JLD2"
   ]
  },
  {
   "cell_type": "code",
   "execution_count": 3,
   "metadata": {},
   "outputs": [
    {
     "data": {
      "text/plain": [
       "2-element Array{Symbol,1}:\n",
       " :mse     \n",
       " :mse_test"
      ]
     },
     "execution_count": 3,
     "metadata": {},
     "output_type": "execute_result"
    }
   ],
   "source": [
    "@load \"comparison.jld2\""
   ]
  },
  {
   "cell_type": "code",
   "execution_count": 4,
   "metadata": {},
   "outputs": [
    {
     "data": {
      "text/plain": [
       "10×5×100 Array{Float64,3}:\n",
       "[:, :, 1] =\n",
       " 0.658909  1.20231   1.20371   1.20231   2.30855 \n",
       " 0.856187  1.24119   0.725046  1.24119   0.908995\n",
       " 0.822722  0.868382  0.721022  0.868382  0.731896\n",
       " 0.801922  0.712514  0.48369   0.712514  0.690115\n",
       " 0.831611  0.721717  0.528027  0.721717  0.557419\n",
       " 0.70952   0.627362  0.456448  0.627362  0.488659\n",
       " 0.69831   0.605865  0.483501  0.605865  0.52076 \n",
       " 0.601197  0.655629  0.422954  0.655629  0.557555\n",
       " 0.492718  0.694336  0.410132  0.694336  0.508396\n",
       " 0.713924  0.762508  0.449758  0.762508  0.491836\n",
       "\n",
       "[:, :, 2] =\n",
       " 1.10618   1.32938   2.8794   1.20524   1.47681 \n",
       " 0.953142  0.762004  2.62681  0.762004  1.21563 \n",
       " 0.89075   0.660684  2.93864  0.660684  0.787635\n",
       " 2.79044   0.696404  2.62873  0.696404  2.49587 \n",
       " 0.0       0.0       0.0      0.0       0.0     \n",
       " 0.0       0.0       0.0      0.0       0.0     \n",
       " 0.0       0.0       0.0      0.0       0.0     \n",
       " 0.0       0.0       0.0      0.0       0.0     \n",
       " 0.0       0.0       0.0      0.0       0.0     \n",
       " 0.0       0.0       0.0      0.0       0.0     \n",
       "\n",
       "[:, :, 3] =\n",
       " 0.0  0.0  0.0  0.0  0.0\n",
       " 0.0  0.0  0.0  0.0  0.0\n",
       " 0.0  0.0  0.0  0.0  0.0\n",
       " 0.0  0.0  0.0  0.0  0.0\n",
       " 0.0  0.0  0.0  0.0  0.0\n",
       " 0.0  0.0  0.0  0.0  0.0\n",
       " 0.0  0.0  0.0  0.0  0.0\n",
       " 0.0  0.0  0.0  0.0  0.0\n",
       " 0.0  0.0  0.0  0.0  0.0\n",
       " 0.0  0.0  0.0  0.0  0.0\n",
       "\n",
       "...\n",
       "\n",
       "[:, :, 98] =\n",
       " 0.0  0.0  0.0  0.0  0.0\n",
       " 0.0  0.0  0.0  0.0  0.0\n",
       " 0.0  0.0  0.0  0.0  0.0\n",
       " 0.0  0.0  0.0  0.0  0.0\n",
       " 0.0  0.0  0.0  0.0  0.0\n",
       " 0.0  0.0  0.0  0.0  0.0\n",
       " 0.0  0.0  0.0  0.0  0.0\n",
       " 0.0  0.0  0.0  0.0  0.0\n",
       " 0.0  0.0  0.0  0.0  0.0\n",
       " 0.0  0.0  0.0  0.0  0.0\n",
       "\n",
       "[:, :, 99] =\n",
       " 0.0  0.0  0.0  0.0  0.0\n",
       " 0.0  0.0  0.0  0.0  0.0\n",
       " 0.0  0.0  0.0  0.0  0.0\n",
       " 0.0  0.0  0.0  0.0  0.0\n",
       " 0.0  0.0  0.0  0.0  0.0\n",
       " 0.0  0.0  0.0  0.0  0.0\n",
       " 0.0  0.0  0.0  0.0  0.0\n",
       " 0.0  0.0  0.0  0.0  0.0\n",
       " 0.0  0.0  0.0  0.0  0.0\n",
       " 0.0  0.0  0.0  0.0  0.0\n",
       "\n",
       "[:, :, 100] =\n",
       " 0.0  0.0  0.0  0.0  0.0\n",
       " 0.0  0.0  0.0  0.0  0.0\n",
       " 0.0  0.0  0.0  0.0  0.0\n",
       " 0.0  0.0  0.0  0.0  0.0\n",
       " 0.0  0.0  0.0  0.0  0.0\n",
       " 0.0  0.0  0.0  0.0  0.0\n",
       " 0.0  0.0  0.0  0.0  0.0\n",
       " 0.0  0.0  0.0  0.0  0.0\n",
       " 0.0  0.0  0.0  0.0  0.0\n",
       " 0.0  0.0  0.0  0.0  0.0"
      ]
     },
     "execution_count": 4,
     "metadata": {},
     "output_type": "execute_result"
    }
   ],
   "source": [
    "mse_test"
   ]
  },
  {
   "cell_type": "code",
   "execution_count": 44,
   "metadata": {
    "collapsed": true
   },
   "outputs": [],
   "source": [
    "using Plots\n",
    "plot(5:5:50, [median(mse_rep[:,:,:],dims=3)[:,2:end-1,1] median(mse_rep4[:,:,:],dims=3)[:,end,1] median(mse_rep_srs[:,:,:],dims=3)[:,:,1]], \n",
    "    legend = :topright, \n",
    "    label = [\"SOCP: sampling with prob.\", \"SOCP: top candidates\",\"sequential\",\"relaxation\",\"random\"],\n",
    "    xticks = 5:5:50, xlabel=\"sample size\", ylabel=\"MSE\")\n",
    "png(\"all.png\")"
   ]
  },
  {
   "cell_type": "code",
   "execution_count": 25,
   "metadata": {
    "collapsed": true
   },
   "outputs": [],
   "source": [
    "using Plots\n",
    "plot(5:5:50, [median(mse_rep[:,:,:],dims=3)[:,2:end-1,1] median(mse_rep_srs[:,:,:],dims=3)[:,:,1]], legend = :topright, \n",
    "    label = [\"SOCP: sampling with prob.\", \"SOCP: top candidates\",\"sequential\",\"random\"],\n",
    "    xticks = 5:5:50, xlabel=\"sample size\", ylabel=\"MSE\")\n",
    "png(\"reduced.png\")"
   ]
  },
  {
   "cell_type": "code",
   "execution_count": 45,
   "metadata": {
    "collapsed": true
   },
   "outputs": [],
   "source": [
    "plot(5:5:50, [median(mse_rep_test[:,:,:],dims=3)[:,2:end-1,1] median(mse_rep_test4[:,:,:],dims=3)[:,end,1] median(mse_rep_test_srs[:,:,:],dims=3)[:,:,1]], \n",
    "    legend = :topright, \n",
    "    label = [\"SOCP: sampling with prob.\", \"SOCP: top candidates\",\"sequential\",\"relaxation\",\"random\"],\n",
    "    xticks = 5:5:50, xlabel=\"sample size\", ylabel=\"MSE\")\n",
    "png(\"all_test.png\")"
   ]
  },
  {
   "cell_type": "code",
   "execution_count": 27,
   "metadata": {
    "collapsed": true
   },
   "outputs": [],
   "source": [
    "plot(5:5:50, [median(mse_rep_test[:,:,:],dims=3)[:,2:end-1,1] median(mse_rep_test_srs[:,:,:],dims=3)[:,:,1]], legend = :topright, \n",
    "    label = [\"SOCP: sampling with prob.\", \"SOCP: top candidates\",\"sequential\",\"random\"],\n",
    "    xticks = 5:5:50, xlabel=\"sample size\", ylabel=\"MSE\")\n",
    "png(\"reduced_test.png\")"
   ]
  },
  {
   "cell_type": "code",
   "execution_count": null,
   "metadata": {
    "collapsed": true
   },
   "outputs": [],
   "source": [
    "using DelimitedFiles, Statistics\n",
    "\n",
    "acc= readdlm(\"ACC.csv\", ',', Float64, '\\n')\n",
    "\n",
    "q1 = zeros(7)\n",
    "med = zeros(7)\n",
    "q2 = zeros(7)\n",
    "q3 = zeros(7)\n",
    "for i = 1:7\n",
    "    q1[i] = quantile(acc[:,i], 0.25)\n",
    "    q2[i] = quantile(acc[:,i], 0.5)\n",
    "    q3[i] = quantile(acc[:,i], 0.75)\n",
    "    med[i] = median(acc[:,i])\n",
    "end\n",
    "println(round.(q1, digits=3))\n",
    "println(round.(q2, digits=3))\n",
    "println(round.(q3, digits=3))"
   ]
  },
  {
   "cell_type": "code",
   "execution_count": null,
   "metadata": {
    "collapsed": true
   },
   "outputs": [],
   "source": [
    "using DelimitedFiles, Statistics\n",
    "\n",
    "acc= readdlm(\"AUC.csv\", ',', Float64, '\\n')\n",
    "\n",
    "q1 = zeros(7)\n",
    "med = zeros(7)\n",
    "q2 = zeros(7)\n",
    "q3 = zeros(7)\n",
    "for i = 1:7\n",
    "    q1[i] = quantile(acc[:,i], 0.25)\n",
    "    q2[i] = quantile(acc[:,i], 0.5)\n",
    "    q3[i] = quantile(acc[:,i], 0.75)\n",
    "    med[i] = median(acc[:,i])\n",
    "end\n",
    "println(round.(q1, digits=3))\n",
    "println(round.(q2, digits=3))\n",
    "println(round.(q3, digits=3))"
   ]
  },
  {
   "cell_type": "code",
   "execution_count": null,
   "metadata": {
    "collapsed": true
   },
   "outputs": [],
   "source": [
    "array{}"
   ]
  }
 ],
 "metadata": {
  "kernelspec": {
   "display_name": "Julia 1.2.0",
   "language": "julia",
   "name": "julia-1.2"
  },
  "language_info": {
   "file_extension": ".jl",
   "mimetype": "application/julia",
   "name": "julia",
   "version": "1.2.0"
  }
 },
 "nbformat": 4,
 "nbformat_minor": 2
}
