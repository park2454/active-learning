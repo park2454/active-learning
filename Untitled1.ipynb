{
 "cells": [
  {
   "cell_type": "code",
   "execution_count": null,
   "metadata": {
    "collapsed": true
   },
   "outputs": [],
   "source": []
  },
  {
   "cell_type": "code",
   "execution_count": 1,
   "metadata": {},
   "outputs": [
    {
     "data": {
      "text/plain": [
       "cvx (generic function with 1 method)"
      ]
     },
     "execution_count": 1,
     "metadata": {},
     "output_type": "execute_result"
    }
   ],
   "source": [
    "include(\"functions.jl\")\n",
    "\n",
    "function irls(X, y; μ=0.1)\n",
    "    n,p = size(X)\n",
    "    βold = βnew = zeros(p)\n",
    "    while true\n",
    "        mu = logistic(X*βold)\n",
    "        w = mu .* (1 .- mu)\n",
    "        βnew = βold + (X'Diagonal(w)*X + μ*I)\\(X'*(y-mu)-μ*βold)\n",
    "        if norm(βold-βnew) <= sqrt(eps(1.0))\n",
    "            break\n",
    "        end\n",
    "        βold = copy(βnew)\n",
    "    end\n",
    "    return βnew\n",
    "end\n",
    "\n",
    "function cvx(X, y;μ=0.1)\n",
    "    b = Variable(p)\n",
    "    problem = minimize(logisticloss(X*b) - y'X*b + μ*sumsquares(b))\n",
    "    solve!(problem, SCS.Optimizer(verbose=false))\n",
    "    return vec(b.value)\n",
    "end"
   ]
  },
  {
   "cell_type": "code",
   "execution_count": 2,
   "metadata": {},
   "outputs": [
    {
     "data": {
      "text/plain": [
       "0.1"
      ]
     },
     "execution_count": 2,
     "metadata": {},
     "output_type": "execute_result"
    }
   ],
   "source": [
    "using Statistics, StatsBase, SCS, BenchmarkTools\n",
    "n, p = 50, 200\n",
    "X = rand(n,p)\n",
    "y = sample([0,1], n)\n",
    "μ= 0.1"
   ]
  },
  {
   "cell_type": "code",
   "execution_count": 3,
   "metadata": {},
   "outputs": [
    {
     "data": {
      "text/plain": [
       "BenchmarkTools.Trial: \n",
       "  memory estimate:  8.06 MiB\n",
       "  allocs estimate:  192\n",
       "  --------------\n",
       "  minimum time:     2.459 s (0.00% GC)\n",
       "  median time:      2.876 s (0.00% GC)\n",
       "  mean time:        2.876 s (0.00% GC)\n",
       "  maximum time:     3.294 s (0.00% GC)\n",
       "  --------------\n",
       "  samples:          2\n",
       "  evals/sample:     1"
      ]
     },
     "execution_count": 3,
     "metadata": {},
     "output_type": "execute_result"
    }
   ],
   "source": [
    "@benchmark iter(X, y)"
   ]
  },
  {
   "cell_type": "code",
   "execution_count": 4,
   "metadata": {},
   "outputs": [
    {
     "data": {
      "text/plain": [
       "BenchmarkTools.Trial: \n",
       "  memory estimate:  12.78 MiB\n",
       "  allocs estimate:  81615\n",
       "  --------------\n",
       "  minimum time:     782.515 ms (0.60% GC)\n",
       "  median time:      952.832 ms (0.25% GC)\n",
       "  mean time:        915.487 ms (1.20% GC)\n",
       "  maximum time:     1.037 s (0.00% GC)\n",
       "  --------------\n",
       "  samples:          6\n",
       "  evals/sample:     1"
      ]
     },
     "execution_count": 4,
     "metadata": {},
     "output_type": "execute_result"
    }
   ],
   "source": [
    "@benchmark cvx(X, y)"
   ]
  },
  {
   "cell_type": "code",
   "execution_count": 5,
   "metadata": {},
   "outputs": [
    {
     "data": {
      "text/plain": [
       "0.1"
      ]
     },
     "execution_count": 5,
     "metadata": {},
     "output_type": "execute_result"
    }
   ],
   "source": [
    "using DelimitedFiles\n",
    "X = readdlm(\"abalone.data\", ',',Any,'\\n')\n",
    "X[findall(x->x!=\"M\",X[:,1])] .= 0\n",
    "X[findall(x->x==\"M\",X[:,1])] .= 1\n",
    "X = convert(Array{Float64,2},X)\n",
    "y = X[:,1]\n",
    "X = X[:,2:end]\n",
    "n, p = size(X)\n",
    "μ= 0.1"
   ]
  },
  {
   "cell_type": "code",
   "execution_count": 6,
   "metadata": {},
   "outputs": [
    {
     "data": {
      "text/plain": [
       "BenchmarkTools.Trial: \n",
       "  memory estimate:  1.93 MiB\n",
       "  allocs estimate:  125\n",
       "  --------------\n",
       "  minimum time:     1.456 ms (0.00% GC)\n",
       "  median time:      4.284 ms (0.00% GC)\n",
       "  mean time:        6.583 ms (4.57% GC)\n",
       "  maximum time:     50.266 ms (67.55% GC)\n",
       "  --------------\n",
       "  samples:          759\n",
       "  evals/sample:     1"
      ]
     },
     "execution_count": 6,
     "metadata": {},
     "output_type": "execute_result"
    }
   ],
   "source": [
    "@benchmark iter(X, y)"
   ]
  },
  {
   "cell_type": "code",
   "execution_count": 7,
   "metadata": {},
   "outputs": [
    {
     "data": {
      "text/plain": [
       "BenchmarkTools.Trial: \n",
       "  memory estimate:  2.42 GiB\n",
       "  allocs estimate:  6471513\n",
       "  --------------\n",
       "  minimum time:     472.903 s (0.64% GC)\n",
       "  median time:      472.903 s (0.64% GC)\n",
       "  mean time:        472.903 s (0.64% GC)\n",
       "  maximum time:     472.903 s (0.64% GC)\n",
       "  --------------\n",
       "  samples:          1\n",
       "  evals/sample:     1"
      ]
     },
     "execution_count": 7,
     "metadata": {},
     "output_type": "execute_result"
    }
   ],
   "source": [
    "@benchmark cvx(X, y)"
   ]
  },
  {
   "cell_type": "code",
   "execution_count": 17,
   "metadata": {},
   "outputs": [
    {
     "data": {
      "text/plain": [
       "2624.762631768053"
      ]
     },
     "execution_count": 17,
     "metadata": {},
     "output_type": "execute_result"
    }
   ],
   "source": [
    "b = b_iter = iter(X,y)\n",
    "sum(log.(exp.(X*b) .+ 1)) + μ*sum(abs2,b) - y'X*b"
   ]
  },
  {
   "cell_type": "code",
   "execution_count": 18,
   "metadata": {},
   "outputs": [
    {
     "data": {
      "text/plain": [
       "2624.457630220508"
      ]
     },
     "execution_count": 18,
     "metadata": {},
     "output_type": "execute_result"
    }
   ],
   "source": [
    "b = b_cvx =  cvx(X,y)\n",
    "sum(log.(exp.(X*b) .+ 1)) + μ*sum(abs2,b) - y'X*b"
   ]
  },
  {
   "cell_type": "code",
   "execution_count": 19,
   "metadata": {},
   "outputs": [
    {
     "data": {
      "text/plain": [
       "1.2763841266016815"
      ]
     },
     "execution_count": 19,
     "metadata": {},
     "output_type": "execute_result"
    }
   ],
   "source": [
    "norm(b_iter - b_cvx)"
   ]
  },
  {
   "cell_type": "code",
   "execution_count": null,
   "metadata": {
    "collapsed": true
   },
   "outputs": [],
   "source": []
  }
 ],
 "metadata": {
  "kernelspec": {
   "display_name": "Julia 1.2.0",
   "language": "julia",
   "name": "julia-1.2"
  },
  "language_info": {
   "file_extension": ".jl",
   "mimetype": "application/julia",
   "name": "julia",
   "version": "1.2.0"
  }
 },
 "nbformat": 4,
 "nbformat_minor": 2
}
