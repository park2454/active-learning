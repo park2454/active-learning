{
 "cells": [
  {
   "cell_type": "code",
   "execution_count": 9,
   "metadata": {},
   "outputs": [
    {
     "data": {
      "text/plain": [
       "100×7 Array{Float64,2}:\n",
       " 0.836937  0.808926  0.722222  0.808926  0.821321  0.808926  0.805462\n",
       " 0.837479  0.865071  0.858327  0.82732   0.82732   0.843182  0.847655\n",
       " 0.846667  0.852809  0.856061  0.8675    0.865311  0.867386  0.878264\n",
       " 0.844211  0.813862  0.828889  0.819577  0.819577  0.825608  0.823375\n",
       " 0.80102   0.874722  0.880891  0.887461  0.883739  0.867448  0.862349\n",
       " 0.830067  0.813195  0.813564  0.796727  0.801122  0.810886  0.817602\n",
       " 0.8589    0.877854  0.876535  0.870782  0.876139  0.8479    0.871386\n",
       " 0.823803  0.8221    0.828955  0.833862  0.83882   0.859134  0.859579\n",
       " 0.8309    0.80576   0.806529  0.772981  0.772981  0.760596  0.762436\n",
       " 0.867852  0.80416   0.805222  0.765291  0.764719  0.750643  0.751732\n",
       " 0.866741  0.8476    0.869592  0.873106  0.874318  0.873242  0.878384\n",
       " 0.8377    0.824021  0.797285  0.835873  0.830906  0.848783  0.852469\n",
       " 0.817534  0.845114  0.849541  0.840341  0.840341  0.850196  0.853403\n",
       " ⋮                                                 ⋮                 \n",
       " 0.743613  0.734293  0.768299  0.746335  0.788526  0.719522  0.745833\n",
       " 0.767747  0.863768  0.860068  0.805213  0.773364  0.786596  0.788307\n",
       " 0.769387  0.734641  0.734641  0.750772  0.749618  0.771277  0.774748\n",
       " 0.81288   0.754133  0.75731   0.7772    0.772157  0.80102   0.775521\n",
       " 0.788254  0.7851    0.790505  0.794514  0.792335  0.815508  0.812925\n",
       " 0.7695    0.80252   0.79793   0.770903  0.763462  0.753968  0.745954\n",
       " 0.804062  0.820755  0.847403  0.750882  0.750556  0.756792  0.758118\n",
       " 0.74645   0.748737  0.736351  0.755106  0.755466  0.7545    0.757981\n",
       " 0.72523   0.778742  0.781448  0.716939  0.716939  0.723068  0.72125 \n",
       " 0.773057  0.820847  0.77499   0.749796  0.730169  0.7702    0.787613\n",
       " 0.746324  0.789193  0.807375  0.789662  0.785299  0.778138  0.787624\n",
       " 0.75677   0.774557  0.771371  0.809084  0.814051  0.760745  0.778642"
      ]
     },
     "execution_count": 9,
     "metadata": {},
     "output_type": "execute_result"
    }
   ],
   "source": [
    "using DelimitedFiles, LinearAlgebra, Statistics\n",
    "ACC = readdlm(\"ACC.csv\",',',Float64,'\\n')\n",
    "AUC = readdlm(\"AUC.csv\",',',Float64,'\\n')"
   ]
  },
  {
   "cell_type": "code",
   "execution_count": 15,
   "metadata": {},
   "outputs": [
    {
     "name": "stdout",
     "output_type": "stream",
     "text": [
      "[0.759 0.807 0.805 0.797 0.798 0.797 0.798]\n",
      "[0.798 0.826 0.823 0.8 0.8 0.801 0.804]\n"
     ]
    }
   ],
   "source": [
    "println(round.(mean(ACC, dims=1), digits=3))\n",
    "println(round.(mean(AUC, dims=1), digits=3))"
   ]
  },
  {
   "cell_type": "code",
   "execution_count": 14,
   "metadata": {},
   "outputs": [
    {
     "name": "stdout",
     "output_type": "stream",
     "text": [
      "[0.757 0.813 0.808 0.8 0.8 0.8 0.799]\n",
      "[0.802 0.832 0.829 0.801 0.8 0.798 0.798]\n"
     ]
    }
   ],
   "source": [
    "println(round.(median(ACC, dims=1), digits=3))\n",
    "println(round.(median(AUC, dims=1), digits=3))"
   ]
  },
  {
   "cell_type": "code",
   "execution_count": 39,
   "metadata": {},
   "outputs": [
    {
     "data": {
      "text/plain": [
       "6-element Array{Symbol,1}:\n",
       " :SOCP_memory  \n",
       " :SOCP_sample  \n",
       " :SOCP_median  \n",
       " :MISOCP_memory\n",
       " :MISOCP_sample\n",
       " :MISOCP_median"
      ]
     },
     "execution_count": 39,
     "metadata": {},
     "output_type": "execute_result"
    }
   ],
   "source": [
    "using FileIO, JLD2\n",
    "\n",
    "@load \"bench.jld2\""
   ]
  },
  {
   "cell_type": "code",
   "execution_count": 46,
   "metadata": {},
   "outputs": [
    {
     "data": {
      "text/plain": [
       "10×5 Array{Float64,2}:\n",
       " 145.068   249.646   383.195   506.927   753.469\n",
       " 190.121   326.776   447.317   688.547   988.718\n",
       " 268.162   446.919   597.405  1160.46   1997.14 \n",
       " 281.015   754.809   951.196  1842.68   2913.41 \n",
       " 525.501   884.601  1203.86   2183.81   2857.9  \n",
       " 639.492  1052.96   1718.87   2356.3    3736.04 \n",
       " 612.902  1207.44   1879.59   2726.1       0.0  \n",
       " 566.321  1322.17   2157.91      0.0       0.0  \n",
       " 592.306  1602.83      0.0       0.0       0.0  \n",
       " 651.906     0.0       0.0       0.0       0.0  "
      ]
     },
     "execution_count": 46,
     "metadata": {},
     "output_type": "execute_result"
    }
   ],
   "source": [
    "SOCP_median[:,6:10] "
   ]
  },
  {
   "cell_type": "code",
   "execution_count": 37,
   "metadata": {
    "collapsed": true
   },
   "outputs": [],
   "source": [
    "writedlm(\"MISOCP_time.csv\",MISOCP_median, ',')"
   ]
  },
  {
   "cell_type": "code",
   "execution_count": null,
   "metadata": {
    "collapsed": true
   },
   "outputs": [],
   "source": [
    "using BenchmarkTools"
   ]
  },
  {
   "cell_type": "code",
   "execution_count": 38,
   "metadata": {},
   "outputs": [
    {
     "data": {
      "text/plain": [
       "10×10 Array{Float64,2}:\n",
       "  1.31043   8.02706   21.8478  …  337.345  518.687  748.761  1032.34\n",
       "  2.02399   9.36596   36.4375     462.767  691.081  974.757     0.0 \n",
       "  1.83603  12.4499    46.9098     645.122  826.146    0.0       0.0 \n",
       " 27.6331   12.6404    68.9883     916.138    0.0      0.0       0.0 \n",
       "  2.37995  16.0819    46.5322       0.0      0.0      0.0       0.0 \n",
       " 11.2496   55.0479    60.076   …    0.0      0.0      0.0       0.0 \n",
       " 10.5809   22.8426    77.0625       0.0      0.0      0.0       0.0 \n",
       " 11.1094   20.6624   858.001        0.0      0.0      0.0       0.0 \n",
       " 23.5318   64.3978     0.0          0.0      0.0      0.0       0.0 \n",
       " 94.1321    0.0        0.0          0.0      0.0      0.0       0.0 "
      ]
     },
     "execution_count": 38,
     "metadata": {},
     "output_type": "execute_result"
    }
   ],
   "source": [
    "MISOCP_median"
   ]
  },
  {
   "cell_type": "code",
   "execution_count": 5,
   "metadata": {},
   "outputs": [
    {
     "data": {
      "text/plain": [
       "0"
      ]
     },
     "execution_count": 5,
     "metadata": {},
     "output_type": "execute_result"
    }
   ],
   "source": [
    "MISOCP_memory[1,1]"
   ]
  },
  {
   "cell_type": "code",
   "execution_count": 3,
   "metadata": {},
   "outputs": [
    {
     "data": {
      "text/plain": [
       "10"
      ]
     },
     "execution_count": 3,
     "metadata": {},
     "output_type": "execute_result"
    }
   ],
   "source": [
    "SOCP_sample[1,1]"
   ]
  },
  {
   "cell_type": "code",
   "execution_count": 4,
   "metadata": {},
   "outputs": [
    {
     "data": {
      "text/plain": [
       "1.5662819755000008"
      ]
     },
     "execution_count": 4,
     "metadata": {},
     "output_type": "execute_result"
    }
   ],
   "source": [
    "SOCP_median[1,1]"
   ]
  }
 ],
 "metadata": {
  "kernelspec": {
   "display_name": "Julia 1.2.0",
   "language": "julia",
   "name": "julia-1.2"
  },
  "language_info": {
   "file_extension": ".jl",
   "mimetype": "application/julia",
   "name": "julia",
   "version": "1.2.0"
  }
 },
 "nbformat": 4,
 "nbformat_minor": 2
}
