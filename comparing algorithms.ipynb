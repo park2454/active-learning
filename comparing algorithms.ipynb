{
 "cells": [
  {
   "cell_type": "code",
   "execution_count": 1,
   "metadata": {},
   "outputs": [
    {
     "data": {
      "text/plain": [
       "alg4 (generic function with 1 method)"
      ]
     },
     "execution_count": 1,
     "metadata": {},
     "output_type": "execute_result"
    }
   ],
   "source": [
    "using Random, Combinatorics, LinearAlgebra, Convex, Mosek, BenchmarkTools, DelimitedFiles, StatsBase\n",
    "include(\"functions.jl\")\n",
    "\n",
    "function brute(X, k; μ=0.1)\n",
    "    n = size(X)[1]\n",
    "    cand = collect(combinations(1:n, k))\n",
    "    val = zeros(length(cand))\n",
    "    for i in 1:length(cand)\n",
    "        X0 = X[cand[i],:]\n",
    "        val[i] =  tr(X*((X0'X0+μ*I)\\(X')))\n",
    "    end\n",
    "    return cand[findmin(val)[2]]\n",
    "end\n",
    "\n",
    "function brute2(X, k; μ=0.1)\n",
    "    n = size(X)[1]\n",
    "    cand = collect(combinations(1:n, k))\n",
    "    best = 0\n",
    "    val = Inf\n",
    "    for i in 1:length(cand)\n",
    "        X0 = X[cand[i],:]\n",
    "        if tr(X*((X0'X0+μ*I)\\(X'))) < val\n",
    "            val = tr(X*((X0'X0+I)\\(X')))\n",
    "            best = i\n",
    "        end\n",
    "    end\n",
    "    return cand[best]\n",
    "end\n",
    "\n",
    "function alg1(X, k; μ=0.1)\n",
    "    K = X*X'\n",
    "    n = size(X)[1]\n",
    "    list = zeros(Int64, k)\n",
    "    for i = 1:k\n",
    "        val = zeros(n)\n",
    "        for j = 1:n\n",
    "            val[j] = sum(abs2, K[:,j]) / (K[j,j]+μ)\n",
    "        end\n",
    "        list[i] = findmax(val)[2]\n",
    "        K -= 1/(K[list[i],list[i]]+μ)*K[:,list[i]]*K[:,list[i]]'\n",
    "    end\n",
    "    return list\n",
    "end\n",
    "\n",
    "function alg3(X,k;μ=0.1, γ=1)\n",
    "    K = X*X'\n",
    "    n = size(X)[1]\n",
    "\n",
    "    α = zeros(n,n)\n",
    "    β =  ones(n)\n",
    "    label_old = label_new =  zeros(Int64, k) \n",
    "    cnt = 0\n",
    "    \n",
    "    while cnt < 10\n",
    "        for i = 1:n\n",
    "            α[:,i] = (Diagonal(1 ./ β) + K)\\K[:,i]\n",
    "        end\n",
    "\n",
    "        for j = 1:n\n",
    "            β[j] = sqrt(1/γ * sum(abs2, α[j,:]))\n",
    "        end\n",
    "\n",
    "        label_new = sortperm(β, rev=true)[1:k]\n",
    "        if label_new == label_old\n",
    "            cnt += 1\n",
    "        else\n",
    "            cnt = 0\n",
    "        end\n",
    "        label_old = copy(label_new)\n",
    "    end\n",
    "    \n",
    "    return label_new\n",
    "end\n",
    "\n",
    "function alg4(X,k;μ=0.1, γ=1)\n",
    "    K = X*X'\n",
    "    n = size(X)[1]\n",
    "\n",
    "    α = αnew = zeros(n,n)\n",
    "    β = βnew =  ones(n)\n",
    "    cnt = 0\n",
    "    \n",
    "    while cnt < 10\n",
    "        for i = 1:n\n",
    "            αnew[:,i] = (Diagonal(1 ./ β) + K)\\K[:,i]\n",
    "        end\n",
    "\n",
    "        for j = 1:n\n",
    "            βnew[j] = sqrt(1/γ * sum(abs2, α[j,:]))\n",
    "        end\n",
    "\n",
    "        if norm(α-αnew) + norm(β-βnew) < 10^-13\n",
    "            break\n",
    "        end\n",
    "        α=αnew\n",
    "        β=βnew\n",
    "    end\n",
    "    \n",
    "    return sortperm(βnew)[1:k]\n",
    "    #return norm(βnew), sort(sortperm(βnew)[1:k])\n",
    "end"
   ]
  },
  {
   "cell_type": "code",
   "execution_count": null,
   "metadata": {},
   "outputs": [],
   "source": [
    "Random.seed!(1992)\n",
    "X = randn(50,4)\n",
    "\n",
    "μ = 0.1\n",
    "n, p = size(X)\n",
    "k = 5\n",
    "println(brute(X,k))\n",
    "println(findall(x->x>0.5,sagnol_A(X, μ*Diagonal(ones(p)), k; K=X', verbose=0, IC=1)))\n",
    "println(sort(alg1(X,k)))\n",
    "println(sort(alg3(X,k)))\n",
    "println(sort(alg4(X,k)))"
   ]
  },
  {
   "cell_type": "code",
   "execution_count": null,
   "metadata": {},
   "outputs": [],
   "source": [
    "X = randn(50,4)\n",
    "n, p = size(X)\n",
    "μ = 0.1\n",
    "k = 5\n",
    "println(brute(X,k))\n",
    "println(findall(x->x>0.5,sagnol_A(X, μ*Diagonal(ones(p)), k; K=X', verbose=0, IC=1)))\n",
    "println(sort(alg1(X,k)))\n",
    "println(sort(alg3(X,k)))\n",
    "println(sort(alg4(X,k)))"
   ]
  },
  {
   "cell_type": "code",
   "execution_count": 2,
   "metadata": {},
   "outputs": [
    {
     "data": {
      "text/plain": [
       "50"
      ]
     },
     "execution_count": 2,
     "metadata": {},
     "output_type": "execute_result"
    }
   ],
   "source": [
    "Random.seed!(1992)\n",
    "wifi = readdlm(\"trainingData.csv\",',',Any,'\\n')\n",
    "colnames = wifi[1,:]\n",
    "wifi = wifi[2:end,1:end-1]\n",
    "n, p = size(wifi)\n",
    "wifi = wifi[sample(1:n, 100, replace = false),:]\n",
    "y = convert(Array{Float64,1}, wifi[:,523])\n",
    "X = convert(Array{Float64, 2}, wifi[:,1:200])\n",
    "n, p = size(X)\n",
    "μ = 0.1\n",
    "k = 50"
   ]
  },
  {
   "cell_type": "code",
   "execution_count": 6,
   "metadata": {},
   "outputs": [
    {
     "name": "stdout",
     "output_type": "stream",
     "text": [
      "Problem\n",
      "  Name                   :                 \n",
      "  Objective sense        : min             \n",
      "  Type                   : CONIC (conic optimization problem)\n",
      "  Constraints            : 50508           \n",
      "  Cones                  : 101             \n",
      "  Scalar variables       : 60506           \n",
      "  Matrix variables       : 0               \n",
      "  Integer variables      : 0               \n",
      "\n",
      "Optimizer started.\n",
      "Presolve started.\n",
      "Linear dependency checker started.\n",
      "Linear dependency checker terminated.\n",
      "Eliminator - tries                  : 0                 time                   : 0.00            \n",
      "Lin. dep.  - tries                  : 1                 time                   : 0.08            \n",
      "Lin. dep.  - number                 : 0               \n",
      "Presolve terminated. Time: 0.75    \n",
      "Problem\n",
      "  Name                   :                 \n",
      "  Objective sense        : min             \n",
      "  Type                   : CONIC (conic optimization problem)\n",
      "  Constraints            : 50508           \n",
      "  Cones                  : 101             \n",
      "  Scalar variables       : 60506           \n",
      "  Matrix variables       : 0               \n",
      "  Integer variables      : 0               \n",
      "\n",
      "Optimizer  - threads                : 24              \n",
      "Optimizer  - solved problem         : the primal      \n",
      "Optimizer  - Constraints            : 20202\n",
      "Optimizer  - Cones                  : 101\n",
      "Optimizer  - Scalar variables       : 30503             conic                  : 30202           \n",
      "Optimizer  - Semi-definite variables: 0                 scalarized             : 0               \n",
      "Factor     - setup time             : 4.45              dense det. time        : 0.92            \n",
      "Factor     - ML order time          : 0.08              GP order time          : 0.00            \n",
      "Factor     - nonzeros before factor : 6.07e+06          after factor           : 6.09e+06        \n",
      "Factor     - dense dim.             : 303               flops                  : 2.32e+09        \n",
      "ITE PFEAS    DFEAS    GFEAS    PRSTATUS   POBJ              DOBJ              MU       TIME  \n",
      "0   1.2e+01  1.0e+00  1.0e+00  0.00e+00   -1.000000000e+00  -1.000000000e+00  1.0e+00  6.35  \n",
      "1   7.2e+00  5.8e-01  4.2e-01  9.50e+00   -1.292258526e-01  2.864311339e+01   5.8e-01  7.43  \n",
      "2   7.5e-01  6.0e-02  1.8e-01  1.41e+00   -1.719883490e-02  1.537703936e+00   6.0e-02  8.23  \n",
      "3   1.2e-03  9.9e-05  7.9e-03  1.08e+00   -6.962293345e-03  -4.672601286e-03  9.9e-05  9.00  \n",
      "4   1.3e-04  1.1e-05  3.4e-03  1.51e+00   -5.352413252e-03  -5.220591306e-03  1.1e-05  10.19 \n",
      "5   2.0e-05  1.6e-06  1.4e-03  1.16e+00   -5.060165251e-03  -5.041352611e-03  1.6e-06  12.08 \n",
      "6   5.1e-07  4.1e-08  3.5e-04  9.91e-01   -5.001087023e-03  -5.000950261e-03  4.1e-08  13.71 \n",
      "Optimizer terminated. Time: 13.77   \n",
      "\n",
      "\n",
      "Interior-point solution summary\n",
      "  Problem status  : PRIMAL_AND_DUAL_FEASIBLE\n",
      "  Solution status : OPTIMAL\n",
      "  Primal.  obj: -5.0010870231e-03   nrm: 5e+01    Viol.  con: 6e-07    var: 0e+00    cones: 0e+00  \n",
      "  Dual.    obj: -5.0009502612e-03   nrm: 1e+00    Viol.  con: 1e-15    var: 2e-08    cones: 0e+00  \n",
      "Optimal\n",
      "109.611530 seconds (33.85 M allocations: 63.120 GiB, 8.43% gc time)\n"
     ]
    },
    {
     "data": {
      "text/plain": [
       "84-element Array{Int64,1}:\n",
       "   1\n",
       "   2\n",
       "   5\n",
       "   6\n",
       "   7\n",
       "   8\n",
       "   9\n",
       "  10\n",
       "  12\n",
       "  13\n",
       "  14\n",
       "  15\n",
       "  16\n",
       "   ⋮\n",
       "  88\n",
       "  89\n",
       "  90\n",
       "  91\n",
       "  92\n",
       "  93\n",
       "  94\n",
       "  95\n",
       "  97\n",
       "  98\n",
       "  99\n",
       " 100"
      ]
     },
     "execution_count": 6,
     "metadata": {},
     "output_type": "execute_result"
    }
   ],
   "source": [
    "@time findall(x->x>0.5, sagnol_A(X, μ*Diagonal(ones(p)), k; K=X', verbose=1, IC=0))"
   ]
  },
  {
   "cell_type": "code",
   "execution_count": null,
   "metadata": {},
   "outputs": [
    {
     "name": "stdout",
     "output_type": "stream",
     "text": [
      "Problem\n",
      "  Name                   :                 \n",
      "  Objective sense        : min             \n",
      "  Type                   : CONIC (conic optimization problem)\n",
      "  Constraints            : 50407           \n",
      "  Cones                  : 101             \n",
      "  Scalar variables       : 60506           \n",
      "  Matrix variables       : 0               \n",
      "  Integer variables      : 101             \n",
      "\n",
      "Optimizer started.\n",
      "Mixed integer optimizer started.\n",
      "Threads used: 24\n",
      "Presolve started.\n",
      "Presolve terminated. Time = 3.94\n",
      "Presolved problem: 30402 variables, 20202 constraints, 4040702 non-zeros\n",
      "Presolved problem: 0 general integer, 100 binary, 30302 continuous\n",
      "Clique table size: 0\n",
      "BRANCHES RELAXS   ACT_NDS  DEPTH    BEST_INT_OBJ         BEST_RELAX_OBJ       REL_GAP(%)  TIME  \n",
      "0        1        0        0        NA                   -5.0003203802e-03    NA          18.1  \n",
      "0        1        0        0        -5.4789156434e-08    -5.0003203802e-03    9.13e+06    166.4 \n",
      "Cut generation started.\n",
      "0        2        0        0        -5.4789156434e-08    -5.0003192620e-03    9.13e+06    648.9 \n",
      "Cut generation terminated. Time = 22.23\n",
      "15       18       12       3        -5.4789156434e-08    -4.9216123036e-03    8.98e+06    760.9 \n",
      "26       29       21       4        -5.4789156434e-08    -4.8936156597e-03    8.93e+06    793.5 \n",
      "46       49       39       5        -5.4789156434e-08    -4.8648644307e-03    8.88e+06    842.0 \n",
      "68       71       51       6        -5.4789156434e-08    -4.8351661097e-03    8.82e+06    889.2 \n",
      "108      111      53       7        -5.4789156434e-08    -4.8044732531e-03    8.77e+06    972.4 \n",
      "148      151      63       9        -5.4789156434e-08    -4.8044732531e-03    8.77e+06    1045.9\n",
      "191      194      74       11       -5.4789156434e-08    -4.7727343722e-03    8.71e+06    1128.4\n",
      "260      263      105      14       -5.4789156434e-08    -4.7059202138e-03    8.59e+06    1257.9\n",
      "356      362      163      18       -5.4789156434e-08    -4.7059202138e-03    8.59e+06    1454.4\n",
      "500      514      255      24       -5.4789156434e-08    -4.7059202138e-03    8.59e+06    1753.9\n",
      "740      763      467      34       -5.4789156434e-08    -4.6341458879e-03    8.46e+06    2243.8\n",
      "1196     1220     897      52       -7.4451355636e-08    -4.6341458879e-03    6.22e+06    3347.3\n",
      "2073     1871     1030     46       -4.7777664287e-06    -4.7777664287e-06    0.00e+00    5474.2\n",
      "An optimal solution satisfying the relative gap tolerance of 1.00e-02(%) has been located.\n",
      "The relative gap is 0.00e+00(%).\n",
      "An optimal solution satisfying the absolute gap tolerance of 0.00e+00 has been located.\n",
      "The absolute gap is 0.00e+00.\n",
      "\n",
      "Objective of best integer solution : -4.777766428710e-06     \n",
      "Best objective bound               : -4.777766428710e-06     \n",
      "Construct solution objective       : Not employed\n",
      "Construct solution # roundings     : 0\n",
      "User objective cut value           : 0\n",
      "Number of cuts generated           : 0\n",
      "Number of branches                 : 2073\n",
      "Number of relaxations solved       : 1871\n",
      "Number of interior point iterations: 12761\n",
      "Number of simplex iterations       : 0\n",
      "Time spend presolving the root     : 3.94\n",
      "Time spend in the heuristic        : 0.00\n",
      "Time spend in the sub optimizers   : 0.00\n",
      "  Time spend optimizing the root   : 13.60\n",
      "Mixed integer optimizer terminated. Time: 5474.17\n",
      "\n",
      "Optimizer terminated. Time: 5475.67 \n",
      "\n",
      "\n",
      "Integer solution solution summary\n",
      "  Problem status  : PRIMAL_FEASIBLE\n",
      "  Solution status : INTEGER_OPTIMAL\n",
      "  Primal.  obj: -4.7777664287e-06   nrm: 5e+01    Viol.  con: 4e-06    var: 0e+00    cones: 1e-02    itg: 0e+00  \n",
      "Optimal\n",
      "5533.953736 seconds (2.08 M allocations: 61.536 GiB, 0.12% gc time)\n"
     ]
    },
    {
     "data": {
      "text/plain": [
       "50-element Array{Int64,1}:\n",
       "  4\n",
       "  8\n",
       "  9\n",
       " 10\n",
       " 12\n",
       " 14\n",
       " 19\n",
       " 21\n",
       " 24\n",
       " 25\n",
       " 26\n",
       " 30\n",
       " 32\n",
       "  ⋮\n",
       " 80\n",
       " 83\n",
       " 85\n",
       " 86\n",
       " 88\n",
       " 90\n",
       " 92\n",
       " 93\n",
       " 94\n",
       " 97\n",
       " 98\n",
       " 99"
      ]
     },
     "execution_count": 7,
     "metadata": {},
     "output_type": "execute_result"
    }
   ],
   "source": [
    "@time findall(x->x>0.5, sagnol_A(X, μ*Diagonal(ones(p)), k; K=X', verbose=1, IC=1))"
   ]
  },
  {
   "cell_type": "code",
   "execution_count": 3,
   "metadata": {},
   "outputs": [
    {
     "name": "stdout",
     "output_type": "stream",
     "text": [
      "  1.492842 seconds (2.37 M allocations: 129.220 MiB)\n"
     ]
    },
    {
     "data": {
      "text/plain": [
       "50-element Array{Int64,1}:\n",
       "   2\n",
       "   4\n",
       "   7\n",
       "   8\n",
       "   9\n",
       "  10\n",
       "  11\n",
       "  14\n",
       "  16\n",
       "  17\n",
       "  20\n",
       "  25\n",
       "  26\n",
       "   ⋮\n",
       "  77\n",
       "  80\n",
       "  81\n",
       "  82\n",
       "  89\n",
       "  90\n",
       "  91\n",
       "  93\n",
       "  94\n",
       "  95\n",
       "  96\n",
       " 100"
      ]
     },
     "execution_count": 3,
     "metadata": {},
     "output_type": "execute_result"
    }
   ],
   "source": [
    "@time sort(alg1(X,k))"
   ]
  },
  {
   "cell_type": "code",
   "execution_count": 4,
   "metadata": {},
   "outputs": [
    {
     "name": "stdout",
     "output_type": "stream",
     "text": [
      "122.967789 seconds (5.03 M allocations: 415.595 MiB)\n"
     ]
    },
    {
     "data": {
      "text/plain": [
       "50-element Array{Int64,1}:\n",
       "   1\n",
       "   5\n",
       "   6\n",
       "  10\n",
       "  12\n",
       "  13\n",
       "  14\n",
       "  15\n",
       "  20\n",
       "  21\n",
       "  23\n",
       "  25\n",
       "  28\n",
       "   ⋮\n",
       "  76\n",
       "  77\n",
       "  80\n",
       "  83\n",
       "  86\n",
       "  89\n",
       "  91\n",
       "  92\n",
       "  93\n",
       "  94\n",
       "  98\n",
       " 100"
      ]
     },
     "execution_count": 4,
     "metadata": {},
     "output_type": "execute_result"
    }
   ],
   "source": [
    "@time sort(alg3(X,k))"
   ]
  },
  {
   "cell_type": "code",
   "execution_count": 5,
   "metadata": {},
   "outputs": [
    {
     "name": "stdout",
     "output_type": "stream",
     "text": [
      " 12.419969 seconds (796.03 k allocations: 54.642 MiB, 1.99% gc time)\n"
     ]
    },
    {
     "data": {
      "text/plain": [
       "50-element Array{Int64,1}:\n",
       "  2\n",
       "  3\n",
       "  4\n",
       "  7\n",
       "  8\n",
       "  9\n",
       " 11\n",
       " 16\n",
       " 17\n",
       " 18\n",
       " 19\n",
       " 22\n",
       " 24\n",
       "  ⋮\n",
       " 79\n",
       " 81\n",
       " 82\n",
       " 84\n",
       " 85\n",
       " 87\n",
       " 88\n",
       " 90\n",
       " 95\n",
       " 96\n",
       " 97\n",
       " 99"
      ]
     },
     "execution_count": 5,
     "metadata": {},
     "output_type": "execute_result"
    }
   ],
   "source": [
    "@time sort(alg4(X,k))"
   ]
  },
  {
   "cell_type": "code",
   "execution_count": null,
   "metadata": {},
   "outputs": [],
   "source": [
    "for i = 10 .^ convert.(Float64, collect((-10:10)))\n",
    "    println(sort(alg4(X,k,γ=i)))\n",
    "end\n",
    "\n",
    "# lasso path does not cross!"
   ]
  },
  {
   "cell_type": "code",
   "execution_count": null,
   "metadata": {},
   "outputs": [],
   "source": [
    "@benchmark alg3(X,k)"
   ]
  },
  {
   "cell_type": "code",
   "execution_count": null,
   "metadata": {},
   "outputs": [],
   "source": [
    "@benchmark alg4(X,k)"
   ]
  },
  {
   "cell_type": "code",
   "execution_count": null,
   "metadata": {},
   "outputs": [],
   "source": [
    "K = X*X'\n",
    "n = size(X)[1]\n",
    "d, P = eigen(K)\n",
    "rk = rank(X)\n",
    "d[1:n-rk] .= 0\n",
    "γ = 10\n",
    "\n",
    "α = zeros(n,n)\n",
    "β = βinv = ones(n)\n",
    "\n",
    "# step 1 \n",
    "for i = n-rk+1:n\n",
    "    α[:,i] = d[i]^(3/2)/(d[i]^2+μ*d[i])*(βinv .* P[:,i])\n",
    "end\n",
    "\n",
    "# step 2\n",
    "t = Variable(n)\n",
    "β_var = Variable(n)\n",
    "problem = minimize(sum(t) + γ*sum(β_var))\n",
    "for i = 1:n\n",
    "    problem.constraints += t >= sumsquares(sqrt(d[i])*P[:,i] - K*Diagonal(α[:,i])*β_var) + μ*d[i]*sumsquares(Diagonal(α[:,i])*β_var)\n",
    "end\n",
    "problem.constraints += β_var >= 0\n",
    "solve!(problem, MosekSolver(LOG=0))\n",
    "β̂ = vec(β_var.value)\n",
    "β̂[findall(x->x<10^-6, β̂)] .= 0\n",
    "println(norm(β̂))\n",
    "\n",
    "#println(norm(β-β̂))\n",
    "\n",
    "# step 3\n",
    "β .*= β̂\n",
    "println(norm(β))\n",
    "βinv = copy(β)\n",
    "βinv[findall(x->x<10^-6, βinv)] .= Inf\n",
    "βinv = 1 ./ βinv\n",
    "println(norm(βinv))\n",
    "sortperm(β, rev = true)[1:k]"
   ]
  },
  {
   "cell_type": "code",
   "execution_count": null,
   "metadata": {},
   "outputs": [],
   "source": [
    "# step 1 \n",
    "for i = n-rk+1:n\n",
    "    α[:,i] = d[i]^(3/2)/(d[i]^2+μ*d[i])*(βinv .* P[:,i])\n",
    "end\n",
    "\n",
    "# step 2\n",
    "t = Variable(n)\n",
    "β_var = Variable(n)\n",
    "problem = minimize(sum(t) + γ*sum(β_var))\n",
    "for i = 1:n\n",
    "    problem.constraints += t >= sumsquares(sqrt(d[i])*P[:,i] - K*Diagonal(α[:,i])*β_var) + μ*d[i]*sumsquares(Diagonal(α[:,i])*β_var)\n",
    "end\n",
    "problem.constraints += β_var >= 0\n",
    "solve!(problem, MosekSolver(LOG=0))\n",
    "β̂ = vec(β_var.value)\n",
    "β̂[findall(x->x<10^-6, β̂)] .= 0\n",
    "println(norm(β̂))\n",
    "\n",
    "#println(norm(β-β̂))\n",
    "\n",
    "# step 3\n",
    "β .*= β̂\n",
    "#β = copy(β̂)\n",
    "println(norm(β))\n",
    "βinv = copy(β)\n",
    "βinv[findall(x->x<10^-6, βinv)] .= Inf\n",
    "βinv = 1 ./ βinv\n",
    "println(norm(βinv))\n",
    "sortperm(β, rev = true)[1:k]"
   ]
  },
  {
   "cell_type": "code",
   "execution_count": null,
   "metadata": {
    "collapsed": true
   },
   "outputs": [],
   "source": [
    "function alg2(X,μ,k)\n",
    " x\n",
    "end"
   ]
  }
 ],
 "metadata": {
  "kernelspec": {
   "display_name": "Julia 1.2.0",
   "language": "julia",
   "name": "julia-1.2"
  },
  "language_info": {
   "file_extension": ".jl",
   "mimetype": "application/julia",
   "name": "julia",
   "version": "1.2.0"
  }
 },
 "nbformat": 4,
 "nbformat_minor": 2
}
