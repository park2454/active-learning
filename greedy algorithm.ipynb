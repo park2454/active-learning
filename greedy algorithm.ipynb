{
 "cells": [
  {
   "cell_type": "code",
   "execution_count": 1,
   "metadata": {},
   "outputs": [
    {
     "data": {
      "text/plain": [
       "seq_des (generic function with 1 method)"
      ]
     },
     "execution_count": 1,
     "metadata": {},
     "output_type": "execute_result"
    }
   ],
   "source": [
    "include(\"functions.jl\")"
   ]
  },
  {
   "cell_type": "code",
   "execution_count": 2,
   "metadata": {},
   "outputs": [
    {
     "data": {
      "text/plain": [
       "(19020, 10)"
      ]
     },
     "execution_count": 2,
     "metadata": {},
     "output_type": "execute_result"
    }
   ],
   "source": [
    "magic = readdlm(\"magic04.data\", ',', Any, '\\n')\n",
    "loc = findall(x->x==\"g\",magic[:,11])\n",
    "magic[loc,11] .= 1\n",
    "loc = findall(x->x==\"h\",magic[:,11])\n",
    "magic[loc,11] .= 0\n",
    "magic = convert(Array{Float64}, magic)\n",
    "\n",
    "#=\n",
    "X = magic\n",
    "y = X[:,11]\n",
    "X = X[:,1:10]\n",
    "n, p = size(X)\n",
    "=#\n",
    "\n",
    "#class = magic[:,11]\n",
    "#magic[:,11] .= 1\n",
    "#n, p = size(magic)\n",
    "\n",
    "class = magic[:,11]\n",
    "magic = magic[:,1:10]\n",
    "n, p = size(magic)"
   ]
  },
  {
   "cell_type": "markdown",
   "metadata": {},
   "source": [
    "magic = randn(10^4, 10)\n",
    "class = round.(rand(10^4))\n",
    "n, p = size(magic)"
   ]
  },
  {
   "cell_type": "code",
   "execution_count": 3,
   "metadata": {
    "scrolled": true
   },
   "outputs": [
    {
     "data": {
      "text/plain": [
       "0.5"
      ]
     },
     "execution_count": 3,
     "metadata": {},
     "output_type": "execute_result"
    }
   ],
   "source": [
    "n0 = 100\n",
    "h = 200\n",
    "nq = 1 #30\n",
    "ϵ = 10^-2\n",
    "α= 0.5"
   ]
  },
  {
   "cell_type": "markdown",
   "metadata": {},
   "source": [
    "## Greedy algorithm"
   ]
  },
  {
   "cell_type": "code",
   "execution_count": 4,
   "metadata": {},
   "outputs": [
    {
     "name": "stdout",
     "output_type": "stream",
     "text": [
      "4.677770137786865\n",
      "0.45446014404296875\n",
      "0.005925893783569336\n",
      "0.013895988464355469\n",
      "0.0060198307037353516\n",
      "0.006773948669433594\n",
      "0.007117033004760742\n",
      "0.007246971130371094\n",
      "0.007451057434082031\n",
      "0.010803937911987305\n"
     ]
    },
    {
     "data": {
      "text/plain": [
       "10-element Array{Int64,1}:\n",
       " 10\n",
       "  6\n",
       "  1\n",
       "  9\n",
       "  8\n",
       "  2\n",
       "  7\n",
       "  3\n",
       "  4\n",
       "  5"
      ]
     },
     "execution_count": 4,
     "metadata": {},
     "output_type": "execute_result"
    }
   ],
   "source": [
    "Random.seed!(1)\n",
    "Ξs = sample(1:n,n0, replace = false)\n",
    "Ξv = p\n",
    "crit = Inf\n",
    "\n",
    "while crit >= ϵ && length(Ξv) <= p\n",
    "    t1 = time()\n",
    "    β̂ = irls(magic[Ξs, Ξv], class[Ξs], 10^-6)\n",
    "    for t = 1:nq\n",
    "        p̂ = μ(magic[setdiff(1:n,Ξs), Ξv], β̂)\n",
    "        d = abs.(p̂ .- α)\n",
    "        Ξi = setdiff(1:n,Ξs)[sortperm(d)[1:h]]\n",
    "        \n",
    "        select = 0\n",
    "        max_val = -Inf\n",
    "        \n",
    "        p̂ = μ(magic[Ξs, Ξv], β̂)\n",
    "        w = p̂ .* (1 .- p̂)\n",
    "        M = magic[Ξs, Ξv]'*Diagonal(w)*magic[Ξs, Ξv]\n",
    "        for i = Ξi\n",
    "            w = μ(magic[i:i, Ξv], β̂)[1]\n",
    "            w = w * (1 - w)\n",
    "            val = logdet(M + w*magic[i, Ξv]*magic[i, Ξv]')\n",
    "            if val > max_val\n",
    "                select = i\n",
    "                max_val = val\n",
    "            end\n",
    "        end\n",
    "        Ξs = [Ξs; select]\n",
    "        β̂ = irls(magic[Ξs, Ξv], class[Ξs], 10^-6)\n",
    "    end\n",
    "\n",
    "    p̂ = μ(magic[Ξs, Ξv], β̂)\n",
    "    w = p̂ .* (1 .- p̂)\n",
    "    M0 = (det(1/length(Ξs) *magic[Ξs, Ξv]'*Diagonal(w)*magic[Ξs, Ξv]))^(1/length(Ξv))\n",
    "    if length(Ξv) < p \n",
    "        g = abs.(magic[Ξs, setdiff(1:p,Ξv)]'*(class[Ξs] - p̂))\n",
    "        u = findmax(g)[2]\n",
    "        u = setdiff(1:p,Ξv)[u]\n",
    "        Ξv = [Ξv; u]\n",
    "        β̂ = irls(magic[Ξs, Ξv], class[Ξs], 10^-6)\n",
    "        p̂ = μ(magic[Ξs, Ξv], β̂)\n",
    "        w = p̂ .* (1 .- p̂)\n",
    "    end\n",
    "    M1 = (det(1/length(Ξs) *magic[Ξs, Ξv]'*Diagonal(w)*magic[Ξs, Ξv]))^(1/length(Ξv))\n",
    "    crit = abs(M1 - M0) / M0\n",
    "    if crit < ϵ && length(Ξv) < p\n",
    "        Ξv = setdiff(Ξv, u)\n",
    "    end\n",
    "    println(time()-t1)\n",
    "end\n",
    "s1 = Ξs\n",
    "v1 = Ξv"
   ]
  },
  {
   "cell_type": "markdown",
   "metadata": {},
   "source": [
    "## SOCP algorithm"
   ]
  },
  {
   "cell_type": "code",
   "execution_count": 5,
   "metadata": {},
   "outputs": [
    {
     "name": "stdout",
     "output_type": "stream",
     "text": [
      "17.46479105949402\n",
      "5.001065969467163\n",
      "1.688715934753418\n",
      "4.812160968780518\n",
      "6.888355016708374\n",
      "3.719360113143921\n",
      "11.80534315109253\n",
      "6.664076089859009\n",
      "9.422388076782227\n",
      "20.74282693862915\n"
     ]
    },
    {
     "data": {
      "text/plain": [
       "10-element Array{Int64,1}:\n",
       " 10\n",
       "  6\n",
       "  9\n",
       "  1\n",
       "  7\n",
       "  8\n",
       "  2\n",
       "  3\n",
       "  4\n",
       "  5"
      ]
     },
     "execution_count": 5,
     "metadata": {},
     "output_type": "execute_result"
    }
   ],
   "source": [
    "Random.seed!(1)\n",
    "Ξs = sample(1:n,n0, replace = false)\n",
    "Ξv = p\n",
    "crit = Inf\n",
    "\n",
    "while crit >= ϵ && length(Ξv) <= p\n",
    "    t1 = time()\n",
    "    β̂ = irls(magic[Ξs, Ξv], class[Ξs], 10^-6)\n",
    "    p̂ = μ(magic[setdiff(1:n,Ξs), Ξv], β̂)\n",
    "    d = abs.(p̂ .- α)\n",
    "    Ξi = setdiff(1:n,Ξs)[sortperm(d)[1:h]]\n",
    "\n",
    "    p̂ = μ(magic[[Ξi; Ξs], Ξv], β̂)\n",
    "    w = p̂ .* (1 .- p̂)\n",
    "    select = sagnol_D(Diagonal(sqrt.(w[1:h]))*magic[Ξi, Ξv], Diagonal(sqrt.(w[h+1:end]))*magic[Ξs, Ξv], nq, IC = 1)\n",
    "    select = Ξi[findall(x->x>0.5, select)]\n",
    "    Ξs = [Ξs; select]\n",
    "    \n",
    "    β̂ = irls(magic[Ξs, Ξv], class[Ξs], 10^-6)\n",
    "    p̂ = μ(magic[Ξs, Ξv], β̂)\n",
    "    w = p̂ .* (1 .- p̂)\n",
    "    M0 = (det(1/length(Ξs) *magic[Ξs, Ξv]'*Diagonal(w)*magic[Ξs, Ξv]))^(1/length(Ξv))\n",
    "    if length(Ξv) < p \n",
    "        g = abs.(magic[Ξs, setdiff(1:p,Ξv)]'*(class[Ξs] - p̂))\n",
    "        u = findmax(g)[2]\n",
    "        u = setdiff(1:p,Ξv)[u]\n",
    "        Ξv = [Ξv; u]\n",
    "        β̂ = irls(magic[Ξs, Ξv], class[Ξs], 10^-6)\n",
    "        p̂ = μ(magic[Ξs, Ξv], β̂)\n",
    "        w = p̂ .* (1 .- p̂)\n",
    "    end\n",
    "    M1 = (det(1/length(Ξs) *magic[Ξs, Ξv]'*Diagonal(w)*magic[Ξs, Ξv]))^(1/length(Ξv))\n",
    "    crit = abs(M1 - M0) / M0\n",
    "    if crit < ϵ && length(Ξv) < p\n",
    "        Ξv = setdiff(Ξv, u)\n",
    "    end\n",
    "    println(time()-t1)\n",
    "end\n",
    "s2 = Ξs\n",
    "v2 = Ξv"
   ]
  },
  {
   "cell_type": "code",
   "execution_count": 6,
   "metadata": {},
   "outputs": [
    {
     "name": "stdout",
     "output_type": "stream",
     "text": [
      "[16769, 12507, 14895, 14090, 17171, 17203, 16047, 13902, 14066, 18104]\n",
      "[16769, 15749, 18714, 7391, 16495, 18809, 15111, 17867, 4735, 12534]\n"
     ]
    }
   ],
   "source": [
    "println(s1[101:end])\n",
    "println(s2[101:end])"
   ]
  },
  {
   "cell_type": "code",
   "execution_count": 7,
   "metadata": {},
   "outputs": [
    {
     "name": "stdout",
     "output_type": "stream",
     "text": [
      "[10, 6, 1, 9, 8, 2, 7, 3, 4, 5]\n",
      "[10, 6, 9, 1, 7, 8, 2, 3, 4, 5]\n"
     ]
    }
   ],
   "source": [
    "println(v1)\n",
    "println(v2)"
   ]
  },
  {
   "cell_type": "code",
   "execution_count": 8,
   "metadata": {},
   "outputs": [
    {
     "data": {
      "text/plain": [
       "1"
      ]
     },
     "execution_count": 8,
     "metadata": {},
     "output_type": "execute_result"
    }
   ],
   "source": [
    "addon = 1\n",
    "Ξs = s1[1:100+addon]\n",
    "Ξv = v1[1:1+addon]\n",
    "crit = Inf\n",
    "\n",
    "β̂ = irls(magic[Ξs, Ξv], class[Ξs], 10^-6)\n",
    "p̂ = μ(magic[setdiff(1:n,Ξs), Ξv], β̂)\n",
    "d = abs.(p̂ .- α)\n",
    "Ξi = setdiff(1:n,Ξs)[sortperm(d)[1:h]]\n",
    "\n",
    "p̂ = μ(magic[[Ξi; Ξs], Ξv], β̂)\n",
    "w = p̂ .* (1 .- p̂)\n",
    "mat = Diagonal(sqrt.(w[1:h]))*magic[Ξi, Ξv]\n",
    "mat0 = Diagonal(sqrt.(w[h+1:end]))*magic[Ξs, Ξv]\n",
    "nq"
   ]
  },
  {
   "cell_type": "code",
   "execution_count": 9,
   "metadata": {},
   "outputs": [
    {
     "data": {
      "text/plain": [
       "1-element Array{Int64,1}:\n",
       " 15749"
      ]
     },
     "execution_count": 9,
     "metadata": {},
     "output_type": "execute_result"
    }
   ],
   "source": [
    "select = sagnol_D(mat, mat0, nq, IC = 1, verbose = 0)\n",
    "Ξi[findall(x->x>0.5, select)]"
   ]
  },
  {
   "cell_type": "code",
   "execution_count": 10,
   "metadata": {},
   "outputs": [
    {
     "data": {
      "text/plain": [
       "1-element Array{Int64,1}:\n",
       " 15749"
      ]
     },
     "execution_count": 10,
     "metadata": {},
     "output_type": "execute_result"
    }
   ],
   "source": [
    "select = sagnol_D(mat, mat0, nq, IC = 1, verbose = 0)\n",
    "Ξi[findall(x->x>0.5, select)]"
   ]
  },
  {
   "cell_type": "code",
   "execution_count": null,
   "metadata": {
    "collapsed": true
   },
   "outputs": [],
   "source": []
  }
 ],
 "metadata": {
  "kernelspec": {
   "display_name": "Julia 1.2.0",
   "language": "julia",
   "name": "julia-1.2"
  },
  "language_info": {
   "file_extension": ".jl",
   "mimetype": "application/julia",
   "name": "julia",
   "version": "1.2.0"
  }
 },
 "nbformat": 4,
 "nbformat_minor": 2
}
